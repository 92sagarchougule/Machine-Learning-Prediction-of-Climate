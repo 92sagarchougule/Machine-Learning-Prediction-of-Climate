{
 "cells": [
  {
   "cell_type": "code",
   "execution_count": 76,
   "metadata": {},
   "outputs": [],
   "source": [
    "import pandas as pd\n",
    "import numpy as np\n",
    "import matplotlib.pyplot as plt\n",
    "from sklearn import linear_model\n",
    "%matplotlib inline"
   ]
  },
  {
   "cell_type": "code",
   "execution_count": 77,
   "metadata": {},
   "outputs": [
    {
     "data": {
      "text/html": [
       "<div>\n",
       "<style scoped>\n",
       "    .dataframe tbody tr th:only-of-type {\n",
       "        vertical-align: middle;\n",
       "    }\n",
       "\n",
       "    .dataframe tbody tr th {\n",
       "        vertical-align: top;\n",
       "    }\n",
       "\n",
       "    .dataframe thead th {\n",
       "        text-align: right;\n",
       "    }\n",
       "</style>\n",
       "<table border=\"1\" class=\"dataframe\">\n",
       "  <thead>\n",
       "    <tr style=\"text-align: right;\">\n",
       "      <th></th>\n",
       "      <th>Sr.No.</th>\n",
       "      <th>YEAR</th>\n",
       "      <th>MAXIMUM_TEMP</th>\n",
       "      <th>MINIMUM_TEMP</th>\n",
       "      <th>AVERAGE_WIND_SPEED</th>\n",
       "      <th>PRECIPITATION</th>\n",
       "    </tr>\n",
       "  </thead>\n",
       "  <tbody>\n",
       "    <tr>\n",
       "      <th>0</th>\n",
       "      <td>1</td>\n",
       "      <td>1988</td>\n",
       "      <td>31.752459</td>\n",
       "      <td>21.629235</td>\n",
       "      <td>4.590464</td>\n",
       "      <td>8.122951</td>\n",
       "    </tr>\n",
       "    <tr>\n",
       "      <th>1</th>\n",
       "      <td>2</td>\n",
       "      <td>1989</td>\n",
       "      <td>31.694247</td>\n",
       "      <td>21.724658</td>\n",
       "      <td>4.408219</td>\n",
       "      <td>6.704110</td>\n",
       "    </tr>\n",
       "    <tr>\n",
       "      <th>2</th>\n",
       "      <td>3</td>\n",
       "      <td>1990</td>\n",
       "      <td>31.419452</td>\n",
       "      <td>21.737808</td>\n",
       "      <td>4.323285</td>\n",
       "      <td>3.871233</td>\n",
       "    </tr>\n",
       "    <tr>\n",
       "      <th>3</th>\n",
       "      <td>4</td>\n",
       "      <td>1991</td>\n",
       "      <td>31.545753</td>\n",
       "      <td>21.827945</td>\n",
       "      <td>4.175342</td>\n",
       "      <td>7.194521</td>\n",
       "    </tr>\n",
       "    <tr>\n",
       "      <th>4</th>\n",
       "      <td>5</td>\n",
       "      <td>1992</td>\n",
       "      <td>31.568306</td>\n",
       "      <td>21.838525</td>\n",
       "      <td>4.109290</td>\n",
       "      <td>7.046448</td>\n",
       "    </tr>\n",
       "    <tr>\n",
       "      <th>5</th>\n",
       "      <td>6</td>\n",
       "      <td>1993</td>\n",
       "      <td>31.632603</td>\n",
       "      <td>22.557459</td>\n",
       "      <td>3.972603</td>\n",
       "      <td>6.976438</td>\n",
       "    </tr>\n",
       "    <tr>\n",
       "      <th>6</th>\n",
       "      <td>7</td>\n",
       "      <td>1994</td>\n",
       "      <td>31.512329</td>\n",
       "      <td>21.715342</td>\n",
       "      <td>4.852055</td>\n",
       "      <td>6.691507</td>\n",
       "    </tr>\n",
       "    <tr>\n",
       "      <th>7</th>\n",
       "      <td>8</td>\n",
       "      <td>1995</td>\n",
       "      <td>31.563336</td>\n",
       "      <td>21.946547</td>\n",
       "      <td>4.309309</td>\n",
       "      <td>11.270270</td>\n",
       "    </tr>\n",
       "    <tr>\n",
       "      <th>8</th>\n",
       "      <td>9</td>\n",
       "      <td>1996</td>\n",
       "      <td>32.137912</td>\n",
       "      <td>21.432418</td>\n",
       "      <td>4.961538</td>\n",
       "      <td>4.583516</td>\n",
       "    </tr>\n",
       "    <tr>\n",
       "      <th>9</th>\n",
       "      <td>10</td>\n",
       "      <td>1998</td>\n",
       "      <td>31.626171</td>\n",
       "      <td>22.199451</td>\n",
       "      <td>2.520000</td>\n",
       "      <td>8.621978</td>\n",
       "    </tr>\n",
       "    <tr>\n",
       "      <th>10</th>\n",
       "      <td>11</td>\n",
       "      <td>1999</td>\n",
       "      <td>31.514325</td>\n",
       "      <td>21.426027</td>\n",
       "      <td>3.553719</td>\n",
       "      <td>9.082192</td>\n",
       "    </tr>\n",
       "    <tr>\n",
       "      <th>11</th>\n",
       "      <td>12</td>\n",
       "      <td>2000</td>\n",
       "      <td>31.513973</td>\n",
       "      <td>21.294247</td>\n",
       "      <td>3.831956</td>\n",
       "      <td>10.496982</td>\n",
       "    </tr>\n",
       "    <tr>\n",
       "      <th>12</th>\n",
       "      <td>13</td>\n",
       "      <td>2001</td>\n",
       "      <td>31.750411</td>\n",
       "      <td>21.587123</td>\n",
       "      <td>3.890411</td>\n",
       "      <td>6.043836</td>\n",
       "    </tr>\n",
       "    <tr>\n",
       "      <th>13</th>\n",
       "      <td>14</td>\n",
       "      <td>2002</td>\n",
       "      <td>31.917260</td>\n",
       "      <td>21.956164</td>\n",
       "      <td>3.468493</td>\n",
       "      <td>6.468493</td>\n",
       "    </tr>\n",
       "    <tr>\n",
       "      <th>14</th>\n",
       "      <td>15</td>\n",
       "      <td>2003</td>\n",
       "      <td>32.145479</td>\n",
       "      <td>21.935616</td>\n",
       "      <td>3.386301</td>\n",
       "      <td>7.097260</td>\n",
       "    </tr>\n",
       "    <tr>\n",
       "      <th>15</th>\n",
       "      <td>16</td>\n",
       "      <td>2004</td>\n",
       "      <td>31.967213</td>\n",
       "      <td>21.544536</td>\n",
       "      <td>3.655738</td>\n",
       "      <td>7.431694</td>\n",
       "    </tr>\n",
       "    <tr>\n",
       "      <th>16</th>\n",
       "      <td>17</td>\n",
       "      <td>2005</td>\n",
       "      <td>31.914521</td>\n",
       "      <td>21.460822</td>\n",
       "      <td>3.402740</td>\n",
       "      <td>7.956164</td>\n",
       "    </tr>\n",
       "    <tr>\n",
       "      <th>17</th>\n",
       "      <td>18</td>\n",
       "      <td>2006</td>\n",
       "      <td>32.083747</td>\n",
       "      <td>21.945730</td>\n",
       "      <td>3.363636</td>\n",
       "      <td>6.419284</td>\n",
       "    </tr>\n",
       "    <tr>\n",
       "      <th>18</th>\n",
       "      <td>19</td>\n",
       "      <td>2007</td>\n",
       "      <td>32.088187</td>\n",
       "      <td>22.180495</td>\n",
       "      <td>2.983516</td>\n",
       "      <td>9.847253</td>\n",
       "    </tr>\n",
       "    <tr>\n",
       "      <th>19</th>\n",
       "      <td>20</td>\n",
       "      <td>2008</td>\n",
       "      <td>32.059836</td>\n",
       "      <td>21.683607</td>\n",
       "      <td>2.887671</td>\n",
       "      <td>7.124384</td>\n",
       "    </tr>\n",
       "    <tr>\n",
       "      <th>20</th>\n",
       "      <td>21</td>\n",
       "      <td>2018</td>\n",
       "      <td>33.885030</td>\n",
       "      <td>21.608683</td>\n",
       "      <td>1.646707</td>\n",
       "      <td>8.543465</td>\n",
       "    </tr>\n",
       "  </tbody>\n",
       "</table>\n",
       "</div>"
      ],
      "text/plain": [
       "    Sr.No.  YEAR  MAXIMUM_TEMP  MINIMUM_TEMP  AVERAGE_WIND_SPEED  \\\n",
       "0        1  1988     31.752459     21.629235            4.590464   \n",
       "1        2  1989     31.694247     21.724658            4.408219   \n",
       "2        3  1990     31.419452     21.737808            4.323285   \n",
       "3        4  1991     31.545753     21.827945            4.175342   \n",
       "4        5  1992     31.568306     21.838525            4.109290   \n",
       "5        6  1993     31.632603     22.557459            3.972603   \n",
       "6        7  1994     31.512329     21.715342            4.852055   \n",
       "7        8  1995     31.563336     21.946547            4.309309   \n",
       "8        9  1996     32.137912     21.432418            4.961538   \n",
       "9       10  1998     31.626171     22.199451            2.520000   \n",
       "10      11  1999     31.514325     21.426027            3.553719   \n",
       "11      12  2000     31.513973     21.294247            3.831956   \n",
       "12      13  2001     31.750411     21.587123            3.890411   \n",
       "13      14  2002     31.917260     21.956164            3.468493   \n",
       "14      15  2003     32.145479     21.935616            3.386301   \n",
       "15      16  2004     31.967213     21.544536            3.655738   \n",
       "16      17  2005     31.914521     21.460822            3.402740   \n",
       "17      18  2006     32.083747     21.945730            3.363636   \n",
       "18      19  2007     32.088187     22.180495            2.983516   \n",
       "19      20  2008     32.059836     21.683607            2.887671   \n",
       "20      21  2018     33.885030     21.608683            1.646707   \n",
       "\n",
       "    PRECIPITATION  \n",
       "0        8.122951  \n",
       "1        6.704110  \n",
       "2        3.871233  \n",
       "3        7.194521  \n",
       "4        7.046448  \n",
       "5        6.976438  \n",
       "6        6.691507  \n",
       "7       11.270270  \n",
       "8        4.583516  \n",
       "9        8.621978  \n",
       "10       9.082192  \n",
       "11      10.496982  \n",
       "12       6.043836  \n",
       "13       6.468493  \n",
       "14       7.097260  \n",
       "15       7.431694  \n",
       "16       7.956164  \n",
       "17       6.419284  \n",
       "18       9.847253  \n",
       "19       7.124384  \n",
       "20       8.543465  "
      ]
     },
     "execution_count": 77,
     "metadata": {},
     "output_type": "execute_result"
    }
   ],
   "source": [
    "df = pd.read_csv('Sindhudurg_.csv')\n",
    "df"
   ]
  },
  {
   "cell_type": "code",
   "execution_count": 78,
   "metadata": {},
   "outputs": [
    {
     "data": {
      "image/png": "[encoded data removed]",
      "text/plain": [
       "<Figure size 504x360 with 1 Axes>"
      ]
     },
     "metadata": {
      "needs_background": "light"
     },
     "output_type": "display_data"
    }
   ],
   "source": [
    "plt.figure(figsize=(7,5))\n",
    "plt.title('Sindhudurg District Average Climate data (1988 to 2018)')\n",
    "plt.xlabel(' [ Years ]')\n",
    "plt.ylabel('[ Temperature ]')\n",
    "plt.plot(df.YEAR,df.MAXIMUM_TEMP,label='maximum Temp',color='r')\n",
    "plt.plot(df.YEAR,df.MINIMUM_TEMP,label='minimum Temp',color='y')\n",
    "plt.legend(loc=5)\n",
    "plt.savefig('Sindhudurg District Average Climate data (1988 to 2018).pdf')"
   ]
  },
  {
   "cell_type": "code",
   "execution_count": 79,
   "metadata": {},
   "outputs": [
    {
     "data": {
      "text/plain": [
       "<matplotlib.legend.Legend at 0x26c48ba2b88>"
      ]
     },
     "execution_count": 79,
     "metadata": {},
     "output_type": "execute_result"
    },
    {
     "data": {
      "image/png": "[encoded data removed]",
      "text/plain": [
       "<Figure size 504x360 with 1 Axes>"
      ]
     },
     "metadata": {
      "needs_background": "light"
     },
     "output_type": "display_data"
    }
   ],
   "source": [
    "plt.figure(figsize=(7,5))\n",
    "plt.title('Sindhudurg District Average Wind Speed (1988 to 2018)')\n",
    "plt.xlabel('[ Years ]')\n",
    "plt.ylabel('[ velocity Meters per second (m/s) ]')\n",
    "plt.plot(df.YEAR,df.AVERAGE_WIND_SPEED,label='Wind speed',color='b')\n",
    "plt.legend(loc=1)"
   ]
  },
  {
   "cell_type": "code",
   "execution_count": 80,
   "metadata": {},
   "outputs": [
    {
     "data": {
      "text/plain": [
       "<matplotlib.legend.Legend at 0x26c48c18988>"
      ]
     },
     "execution_count": 80,
     "metadata": {},
     "output_type": "execute_result"
    },
    {
     "data": {
      "image/png": "[encoded data removed]",
      "text/plain": [
       "<Figure size 504x360 with 1 Axes>"
      ]
     },
     "metadata": {
      "needs_background": "light"
     },
     "output_type": "display_data"
    }
   ],
   "source": [
    "plt.figure(figsize=(7,5))\n",
    "plt.title('Sindhudurg District Average Precipitation (1988 to 2018)')\n",
    "plt.xlabel('[ Years ]')\n",
    "plt.ylabel('[ in millimetres (mm) ]')\n",
    "plt.plot(df.YEAR,df.PRECIPITATION,label='Rainfall',color='g')\n",
    "plt.legend(loc=1)"
   ]
  },
  {
   "cell_type": "markdown",
   "metadata": {},
   "source": [
    "# Model"
   ]
  },
  {
   "cell_type": "code",
   "execution_count": 81,
   "metadata": {},
   "outputs": [],
   "source": [
    "reg = linear_model.LinearRegression()"
   ]
  },
  {
   "cell_type": "markdown",
   "metadata": {},
   "source": [
    "# Equation for calculation of Climate Data"
   ]
  },
  {
   "cell_type": "markdown",
   "metadata": {},
   "source": [
    "# Max-Temp = M * Year + B"
   ]
  },
  {
   "cell_type": "markdown",
   "metadata": {},
   "source": [
    "M = reg.coef_\n",
    "\n",
    "Year = Year of Rainfall\n",
    "\n",
    "B = reg.intercept_"
   ]
  },
  {
   "cell_type": "code",
   "execution_count": 82,
   "metadata": {},
   "outputs": [
    {
     "data": {
      "text/html": [
       "<div>\n",
       "<style scoped>\n",
       "    .dataframe tbody tr th:only-of-type {\n",
       "        vertical-align: middle;\n",
       "    }\n",
       "\n",
       "    .dataframe tbody tr th {\n",
       "        vertical-align: top;\n",
       "    }\n",
       "\n",
       "    .dataframe thead th {\n",
       "        text-align: right;\n",
       "    }\n",
       "</style>\n",
       "<table border=\"1\" class=\"dataframe\">\n",
       "  <thead>\n",
       "    <tr style=\"text-align: right;\">\n",
       "      <th></th>\n",
       "      <th>YEAR</th>\n",
       "    </tr>\n",
       "  </thead>\n",
       "  <tbody>\n",
       "    <tr>\n",
       "      <th>0</th>\n",
       "      <td>2019</td>\n",
       "    </tr>\n",
       "    <tr>\n",
       "      <th>1</th>\n",
       "      <td>2020</td>\n",
       "    </tr>\n",
       "    <tr>\n",
       "      <th>2</th>\n",
       "      <td>2021</td>\n",
       "    </tr>\n",
       "    <tr>\n",
       "      <th>3</th>\n",
       "      <td>2022</td>\n",
       "    </tr>\n",
       "    <tr>\n",
       "      <th>4</th>\n",
       "      <td>2023</td>\n",
       "    </tr>\n",
       "  </tbody>\n",
       "</table>\n",
       "</div>"
      ],
      "text/plain": [
       "   YEAR\n",
       "0  2019\n",
       "1  2020\n",
       "2  2021\n",
       "3  2022\n",
       "4  2023"
      ]
     },
     "execution_count": 82,
     "metadata": {},
     "output_type": "execute_result"
    }
   ],
   "source": [
    "df1 = pd.read_csv('Year_to_predicted_rainfall.csv')\n",
    "df1.head()"
   ]
  },
  {
   "cell_type": "code",
   "execution_count": 83,
   "metadata": {},
   "outputs": [],
   "source": [
    "MAXIMUM_TEMP = reg.fit(df[['YEAR']],df.MAXIMUM_TEMP)\n",
    "Max_Temp = MAXIMUM_TEMP.predict(df1)"
   ]
  },
  {
   "cell_type": "code",
   "execution_count": 84,
   "metadata": {},
   "outputs": [
    {
     "data": {
      "text/plain": [
       "array([0.05255072])"
      ]
     },
     "execution_count": 84,
     "metadata": {},
     "output_type": "execute_result"
    }
   ],
   "source": [
    "MAXIMUM_TEMP.coef_       #Coefficient of ---- M value   "
   ]
  },
  {
   "cell_type": "code",
   "execution_count": 85,
   "metadata": {},
   "outputs": [
    {
     "data": {
      "text/plain": [
       "-73.17782179319703"
      ]
     },
     "execution_count": 85,
     "metadata": {},
     "output_type": "execute_result"
    }
   ],
   "source": [
    "MAXIMUM_TEMP.intercept_  #  intercept value ---- B value"
   ]
  },
  {
   "cell_type": "markdown",
   "metadata": {},
   "source": [
    "# Mini-Temp= M * Year + B"
   ]
  },
  {
   "cell_type": "markdown",
   "metadata": {},
   "source": [
    "M = reg.coef_\n",
    "\n",
    "#Year = Year of Rainfall\n",
    "\n",
    "#B = reg.intercept_"
   ]
  },
  {
   "cell_type": "code",
   "execution_count": 86,
   "metadata": {},
   "outputs": [],
   "source": [
    "MINIMUM_TEMP = reg.fit(df[['YEAR']],df.MINIMUM_TEMP)\n",
    "Min_Temp = MINIMUM_TEMP.predict(df1)"
   ]
  },
  {
   "cell_type": "code",
   "execution_count": 87,
   "metadata": {},
   "outputs": [
    {
     "data": {
      "text/plain": [
       "array([-0.00449256])"
      ]
     },
     "execution_count": 87,
     "metadata": {},
     "output_type": "execute_result"
    }
   ],
   "source": [
    "MINIMUM_TEMP.coef_  "
   ]
  },
  {
   "cell_type": "code",
   "execution_count": 88,
   "metadata": {},
   "outputs": [
    {
     "data": {
      "text/plain": [
       "30.75361030979091"
      ]
     },
     "execution_count": 88,
     "metadata": {},
     "output_type": "execute_result"
    }
   ],
   "source": [
    "MINIMUM_TEMP.intercept_"
   ]
  },
  {
   "cell_type": "markdown",
   "metadata": {},
   "source": [
    "# Wind-Speed = M * Year + B"
   ]
  },
  {
   "cell_type": "code",
   "execution_count": 89,
   "metadata": {},
   "outputs": [],
   "source": [
    "AVERAGE_WIND_SPEED = reg.fit(df[['YEAR']],df.AVERAGE_WIND_SPEED)\n",
    "Avg_Wind_Speed = AVERAGE_WIND_SPEED.predict(df1)"
   ]
  },
  {
   "cell_type": "code",
   "execution_count": 90,
   "metadata": {},
   "outputs": [],
   "source": [
    "#M = reg.coef_\n",
    "\n",
    "#Year = Year of Rainfall\n",
    "\n",
    "#B = reg.intercept_"
   ]
  },
  {
   "cell_type": "code",
   "execution_count": 91,
   "metadata": {},
   "outputs": [
    {
     "data": {
      "text/plain": [
       "array([-0.08662345])"
      ]
     },
     "execution_count": 91,
     "metadata": {},
     "output_type": "execute_result"
    }
   ],
   "source": [
    "AVERAGE_WIND_SPEED.coef_"
   ]
  },
  {
   "cell_type": "code",
   "execution_count": 92,
   "metadata": {},
   "outputs": [
    {
     "data": {
      "text/plain": [
       "array([-0.08662345])"
      ]
     },
     "execution_count": 92,
     "metadata": {},
     "output_type": "execute_result"
    }
   ],
   "source": [
    "AVERAGE_WIND_SPEED.coef_"
   ]
  },
  {
   "cell_type": "code",
   "execution_count": 93,
   "metadata": {},
   "outputs": [
    {
     "data": {
      "text/plain": [
       "176.88852174834264"
      ]
     },
     "execution_count": 93,
     "metadata": {},
     "output_type": "execute_result"
    }
   ],
   "source": [
    "AVERAGE_WIND_SPEED.intercept_"
   ]
  },
  {
   "cell_type": "markdown",
   "metadata": {},
   "source": [
    "# Precipitation = M * Year + B"
   ]
  },
  {
   "cell_type": "code",
   "execution_count": 94,
   "metadata": {},
   "outputs": [],
   "source": [
    "Pre_PRECIPITATION = reg.fit(df[['YEAR']],df.PRECIPITATION)\n",
    "Precipitation = Pre_PRECIPITATION.predict(df1)"
   ]
  },
  {
   "cell_type": "code",
   "execution_count": 95,
   "metadata": {},
   "outputs": [],
   "source": [
    "#M = reg.coef_\n",
    "\n",
    "#Year = Year of Rainfall\n",
    "\n",
    "#B = reg.intercept_"
   ]
  },
  {
   "cell_type": "code",
   "execution_count": 96,
   "metadata": {},
   "outputs": [
    {
     "data": {
      "text/plain": [
       "array([0.05622579])"
      ]
     },
     "execution_count": 96,
     "metadata": {},
     "output_type": "execute_result"
    }
   ],
   "source": [
    "Pre_PRECIPITATION.coef_"
   ]
  },
  {
   "cell_type": "code",
   "execution_count": 97,
   "metadata": {},
   "outputs": [
    {
     "data": {
      "text/plain": [
       "-104.89087001653778"
      ]
     },
     "execution_count": 97,
     "metadata": {},
     "output_type": "execute_result"
    }
   ],
   "source": [
    "Pre_PRECIPITATION.intercept_"
   ]
  },
  {
   "cell_type": "code",
   "execution_count": 98,
   "metadata": {},
   "outputs": [],
   "source": [
    "df1['Pre_MAXIMUM_TEMP'] = Max_Temp"
   ]
  },
  {
   "cell_type": "code",
   "execution_count": 99,
   "metadata": {},
   "outputs": [],
   "source": [
    "df1['Pre_MINIMUM_TEMP'] = Min_Temp"
   ]
  },
  {
   "cell_type": "code",
   "execution_count": 100,
   "metadata": {},
   "outputs": [],
   "source": [
    "df1['Pre_Avg_Wind_Speed'] = Avg_Wind_Speed"
   ]
  },
  {
   "cell_type": "code",
   "execution_count": 101,
   "metadata": {},
   "outputs": [],
   "source": [
    "df1['Pre_Precipitation'] = Precipitation"
   ]
  },
  {
   "cell_type": "code",
   "execution_count": 102,
   "metadata": {},
   "outputs": [
    {
     "data": {
      "text/html": [
       "<div>\n",
       "<style scoped>\n",
       "    .dataframe tbody tr th:only-of-type {\n",
       "        vertical-align: middle;\n",
       "    }\n",
       "\n",
       "    .dataframe tbody tr th {\n",
       "        vertical-align: top;\n",
       "    }\n",
       "\n",
       "    .dataframe thead th {\n",
       "        text-align: right;\n",
       "    }\n",
       "</style>\n",
       "<table border=\"1\" class=\"dataframe\">\n",
       "  <thead>\n",
       "    <tr style=\"text-align: right;\">\n",
       "      <th></th>\n",
       "      <th>YEAR</th>\n",
       "      <th>Pre_MAXIMUM_TEMP</th>\n",
       "      <th>Pre_MINIMUM_TEMP</th>\n",
       "      <th>Pre_Avg_Wind_Speed</th>\n",
       "      <th>Pre_Precipitation</th>\n",
       "    </tr>\n",
       "  </thead>\n",
       "  <tbody>\n",
       "    <tr>\n",
       "      <th>0</th>\n",
       "      <td>2019</td>\n",
       "      <td>32.922088</td>\n",
       "      <td>21.683122</td>\n",
       "      <td>1.995769</td>\n",
       "      <td>8.628991</td>\n",
       "    </tr>\n",
       "    <tr>\n",
       "      <th>1</th>\n",
       "      <td>2020</td>\n",
       "      <td>32.974639</td>\n",
       "      <td>21.678629</td>\n",
       "      <td>1.909145</td>\n",
       "      <td>8.685217</td>\n",
       "    </tr>\n",
       "    <tr>\n",
       "      <th>2</th>\n",
       "      <td>2021</td>\n",
       "      <td>33.027190</td>\n",
       "      <td>21.674137</td>\n",
       "      <td>1.822522</td>\n",
       "      <td>8.741442</td>\n",
       "    </tr>\n",
       "    <tr>\n",
       "      <th>3</th>\n",
       "      <td>2022</td>\n",
       "      <td>33.079740</td>\n",
       "      <td>21.669644</td>\n",
       "      <td>1.735898</td>\n",
       "      <td>8.797668</td>\n",
       "    </tr>\n",
       "    <tr>\n",
       "      <th>4</th>\n",
       "      <td>2023</td>\n",
       "      <td>33.132291</td>\n",
       "      <td>21.665152</td>\n",
       "      <td>1.649275</td>\n",
       "      <td>8.853894</td>\n",
       "    </tr>\n",
       "    <tr>\n",
       "      <th>5</th>\n",
       "      <td>2024</td>\n",
       "      <td>33.184842</td>\n",
       "      <td>21.660659</td>\n",
       "      <td>1.562651</td>\n",
       "      <td>8.910120</td>\n",
       "    </tr>\n",
       "    <tr>\n",
       "      <th>6</th>\n",
       "      <td>2025</td>\n",
       "      <td>33.237393</td>\n",
       "      <td>21.656166</td>\n",
       "      <td>1.476028</td>\n",
       "      <td>8.966346</td>\n",
       "    </tr>\n",
       "    <tr>\n",
       "      <th>7</th>\n",
       "      <td>2026</td>\n",
       "      <td>33.289943</td>\n",
       "      <td>21.651674</td>\n",
       "      <td>1.389405</td>\n",
       "      <td>9.022571</td>\n",
       "    </tr>\n",
       "    <tr>\n",
       "      <th>8</th>\n",
       "      <td>2027</td>\n",
       "      <td>33.342494</td>\n",
       "      <td>21.647181</td>\n",
       "      <td>1.302781</td>\n",
       "      <td>9.078797</td>\n",
       "    </tr>\n",
       "    <tr>\n",
       "      <th>9</th>\n",
       "      <td>2028</td>\n",
       "      <td>33.395045</td>\n",
       "      <td>21.642689</td>\n",
       "      <td>1.216158</td>\n",
       "      <td>9.135023</td>\n",
       "    </tr>\n",
       "    <tr>\n",
       "      <th>10</th>\n",
       "      <td>2030</td>\n",
       "      <td>33.500146</td>\n",
       "      <td>21.633704</td>\n",
       "      <td>1.042911</td>\n",
       "      <td>9.247475</td>\n",
       "    </tr>\n",
       "    <tr>\n",
       "      <th>11</th>\n",
       "      <td>2031</td>\n",
       "      <td>33.552697</td>\n",
       "      <td>21.629211</td>\n",
       "      <td>0.956287</td>\n",
       "      <td>9.303700</td>\n",
       "    </tr>\n",
       "    <tr>\n",
       "      <th>12</th>\n",
       "      <td>2032</td>\n",
       "      <td>33.605248</td>\n",
       "      <td>21.624718</td>\n",
       "      <td>0.869664</td>\n",
       "      <td>9.359926</td>\n",
       "    </tr>\n",
       "    <tr>\n",
       "      <th>13</th>\n",
       "      <td>2033</td>\n",
       "      <td>33.657798</td>\n",
       "      <td>21.620226</td>\n",
       "      <td>0.783040</td>\n",
       "      <td>9.416152</td>\n",
       "    </tr>\n",
       "    <tr>\n",
       "      <th>14</th>\n",
       "      <td>2034</td>\n",
       "      <td>33.710349</td>\n",
       "      <td>21.615733</td>\n",
       "      <td>0.696417</td>\n",
       "      <td>9.472378</td>\n",
       "    </tr>\n",
       "    <tr>\n",
       "      <th>15</th>\n",
       "      <td>2035</td>\n",
       "      <td>33.762900</td>\n",
       "      <td>21.611241</td>\n",
       "      <td>0.609793</td>\n",
       "      <td>9.528603</td>\n",
       "    </tr>\n",
       "    <tr>\n",
       "      <th>16</th>\n",
       "      <td>2036</td>\n",
       "      <td>33.815451</td>\n",
       "      <td>21.606748</td>\n",
       "      <td>0.523170</td>\n",
       "      <td>9.584829</td>\n",
       "    </tr>\n",
       "    <tr>\n",
       "      <th>17</th>\n",
       "      <td>2037</td>\n",
       "      <td>33.868001</td>\n",
       "      <td>21.602256</td>\n",
       "      <td>0.436547</td>\n",
       "      <td>9.641055</td>\n",
       "    </tr>\n",
       "    <tr>\n",
       "      <th>18</th>\n",
       "      <td>2038</td>\n",
       "      <td>33.920552</td>\n",
       "      <td>21.597763</td>\n",
       "      <td>0.349923</td>\n",
       "      <td>9.697281</td>\n",
       "    </tr>\n",
       "    <tr>\n",
       "      <th>19</th>\n",
       "      <td>2039</td>\n",
       "      <td>33.973103</td>\n",
       "      <td>21.593271</td>\n",
       "      <td>0.263300</td>\n",
       "      <td>9.753507</td>\n",
       "    </tr>\n",
       "    <tr>\n",
       "      <th>20</th>\n",
       "      <td>2040</td>\n",
       "      <td>34.025653</td>\n",
       "      <td>21.588778</td>\n",
       "      <td>0.176676</td>\n",
       "      <td>9.809732</td>\n",
       "    </tr>\n",
       "    <tr>\n",
       "      <th>21</th>\n",
       "      <td>2041</td>\n",
       "      <td>34.078204</td>\n",
       "      <td>21.584285</td>\n",
       "      <td>0.090053</td>\n",
       "      <td>9.865958</td>\n",
       "    </tr>\n",
       "    <tr>\n",
       "      <th>22</th>\n",
       "      <td>2042</td>\n",
       "      <td>34.130755</td>\n",
       "      <td>21.579793</td>\n",
       "      <td>0.003429</td>\n",
       "      <td>9.922184</td>\n",
       "    </tr>\n",
       "    <tr>\n",
       "      <th>23</th>\n",
       "      <td>2043</td>\n",
       "      <td>34.183306</td>\n",
       "      <td>21.575300</td>\n",
       "      <td>-0.083194</td>\n",
       "      <td>9.978410</td>\n",
       "    </tr>\n",
       "    <tr>\n",
       "      <th>24</th>\n",
       "      <td>2044</td>\n",
       "      <td>34.235856</td>\n",
       "      <td>21.570808</td>\n",
       "      <td>-0.169818</td>\n",
       "      <td>10.034636</td>\n",
       "    </tr>\n",
       "    <tr>\n",
       "      <th>25</th>\n",
       "      <td>2046</td>\n",
       "      <td>34.340958</td>\n",
       "      <td>21.561823</td>\n",
       "      <td>-0.343065</td>\n",
       "      <td>10.147087</td>\n",
       "    </tr>\n",
       "    <tr>\n",
       "      <th>26</th>\n",
       "      <td>2047</td>\n",
       "      <td>34.393508</td>\n",
       "      <td>21.557330</td>\n",
       "      <td>-0.429688</td>\n",
       "      <td>10.203313</td>\n",
       "    </tr>\n",
       "    <tr>\n",
       "      <th>27</th>\n",
       "      <td>2048</td>\n",
       "      <td>34.446059</td>\n",
       "      <td>21.552837</td>\n",
       "      <td>-0.516311</td>\n",
       "      <td>10.259539</td>\n",
       "    </tr>\n",
       "    <tr>\n",
       "      <th>28</th>\n",
       "      <td>2049</td>\n",
       "      <td>34.498610</td>\n",
       "      <td>21.548345</td>\n",
       "      <td>-0.602935</td>\n",
       "      <td>10.315764</td>\n",
       "    </tr>\n",
       "    <tr>\n",
       "      <th>29</th>\n",
       "      <td>2050</td>\n",
       "      <td>34.551161</td>\n",
       "      <td>21.543852</td>\n",
       "      <td>-0.689558</td>\n",
       "      <td>10.371990</td>\n",
       "    </tr>\n",
       "  </tbody>\n",
       "</table>\n",
       "</div>"
      ],
      "text/plain": [
       "    YEAR  Pre_MAXIMUM_TEMP  Pre_MINIMUM_TEMP  Pre_Avg_Wind_Speed  \\\n",
       "0   2019         32.922088         21.683122            1.995769   \n",
       "1   2020         32.974639         21.678629            1.909145   \n",
       "2   2021         33.027190         21.674137            1.822522   \n",
       "3   2022         33.079740         21.669644            1.735898   \n",
       "4   2023         33.132291         21.665152            1.649275   \n",
       "5   2024         33.184842         21.660659            1.562651   \n",
       "6   2025         33.237393         21.656166            1.476028   \n",
       "7   2026         33.289943         21.651674            1.389405   \n",
       "8   2027         33.342494         21.647181            1.302781   \n",
       "9   2028         33.395045         21.642689            1.216158   \n",
       "10  2030         33.500146         21.633704            1.042911   \n",
       "11  2031         33.552697         21.629211            0.956287   \n",
       "12  2032         33.605248         21.624718            0.869664   \n",
       "13  2033         33.657798         21.620226            0.783040   \n",
       "14  2034         33.710349         21.615733            0.696417   \n",
       "15  2035         33.762900         21.611241            0.609793   \n",
       "16  2036         33.815451         21.606748            0.523170   \n",
       "17  2037         33.868001         21.602256            0.436547   \n",
       "18  2038         33.920552         21.597763            0.349923   \n",
       "19  2039         33.973103         21.593271            0.263300   \n",
       "20  2040         34.025653         21.588778            0.176676   \n",
       "21  2041         34.078204         21.584285            0.090053   \n",
       "22  2042         34.130755         21.579793            0.003429   \n",
       "23  2043         34.183306         21.575300           -0.083194   \n",
       "24  2044         34.235856         21.570808           -0.169818   \n",
       "25  2046         34.340958         21.561823           -0.343065   \n",
       "26  2047         34.393508         21.557330           -0.429688   \n",
       "27  2048         34.446059         21.552837           -0.516311   \n",
       "28  2049         34.498610         21.548345           -0.602935   \n",
       "29  2050         34.551161         21.543852           -0.689558   \n",
       "\n",
       "    Pre_Precipitation  \n",
       "0            8.628991  \n",
       "1            8.685217  \n",
       "2            8.741442  \n",
       "3            8.797668  \n",
       "4            8.853894  \n",
       "5            8.910120  \n",
       "6            8.966346  \n",
       "7            9.022571  \n",
       "8            9.078797  \n",
       "9            9.135023  \n",
       "10           9.247475  \n",
       "11           9.303700  \n",
       "12           9.359926  \n",
       "13           9.416152  \n",
       "14           9.472378  \n",
       "15           9.528603  \n",
       "16           9.584829  \n",
       "17           9.641055  \n",
       "18           9.697281  \n",
       "19           9.753507  \n",
       "20           9.809732  \n",
       "21           9.865958  \n",
       "22           9.922184  \n",
       "23           9.978410  \n",
       "24          10.034636  \n",
       "25          10.147087  \n",
       "26          10.203313  \n",
       "27          10.259539  \n",
       "28          10.315764  \n",
       "29          10.371990  "
      ]
     },
     "execution_count": 102,
     "metadata": {},
     "output_type": "execute_result"
    }
   ],
   "source": [
    "df1   #Predicted Rainfall Using Single Variable linear Regression"
   ]
  },
  {
   "cell_type": "code",
   "execution_count": 103,
   "metadata": {},
   "outputs": [
    {
     "data": {
      "text/plain": [
       "<matplotlib.legend.Legend at 0x26c48cb5dc8>"
      ]
     },
     "execution_count": 103,
     "metadata": {},
     "output_type": "execute_result"
    },
    {
     "data": {
      "image/png": "[encoded data removed]",
      "text/plain": [
       "<Figure size 648x360 with 1 Axes>"
      ]
     },
     "metadata": {
      "needs_background": "light"
     },
     "output_type": "display_data"
    }
   ],
   "source": [
    "plt.figure(figsize=(9,5))\n",
    "plt.title('Sindhudurg Next 30 year Prediction of Max & Min Temperature')\n",
    "plt.xlabel('Years')\n",
    "plt.ylabel('Temperature')\n",
    "plt.plot(df.YEAR,df.MAXIMUM_TEMP,label='maximum Temp',color='r')\n",
    "plt.plot(df.YEAR,df.MINIMUM_TEMP,label='minimum Temp',color='y') \n",
    "plt.plot(df1.YEAR,df1.Pre_MAXIMUM_TEMP,'--',label='predicted maximum Temp',color='r')\n",
    "plt.plot(df1.YEAR,df1.Pre_MINIMUM_TEMP,'--', label='predicted minimum Temp',color='y')\n",
    "plt.legend()"
   ]
  },
  {
   "cell_type": "code",
   "execution_count": 104,
   "metadata": {},
   "outputs": [
    {
     "data": {
      "text/plain": [
       "<matplotlib.legend.Legend at 0x26c48cbdc48>"
      ]
     },
     "execution_count": 104,
     "metadata": {},
     "output_type": "execute_result"
    },
    {
     "data": {
      "image/png": "[encoded data removed]",
      "text/plain": [
       "<Figure size 648x360 with 1 Axes>"
      ]
     },
     "metadata": {
      "needs_background": "light"
     },
     "output_type": "display_data"
    }
   ],
   "source": [
    "plt.figure(figsize=(9,5))\n",
    "plt.title('Prediction of Wind Speed of Sindhudurg District (Next 30 year) ')\n",
    "plt.xlabel('[ Years ]')\n",
    "plt.ylabel(' [ velocity Meters per second (m/s)  ]')\n",
    "plt.plot(df.YEAR,df.AVERAGE_WIND_SPEED,label='Wind speed',color='b')\n",
    "plt.plot(df1.YEAR,df1.Pre_Avg_Wind_Speed,'--g',label='predicted Wind speed',color='b')\n",
    "plt.legend(loc=1)"
   ]
  },
  {
   "cell_type": "code",
   "execution_count": 105,
   "metadata": {},
   "outputs": [
    {
     "data": {
      "text/plain": [
       "<matplotlib.legend.Legend at 0x26c48d43908>"
      ]
     },
     "execution_count": 105,
     "metadata": {},
     "output_type": "execute_result"
    },
    {
     "data": {
      "image/png": "[encoded data removed]",
      "text/plain": [
       "<Figure size 648x360 with 1 Axes>"
      ]
     },
     "metadata": {
      "needs_background": "light"
     },
     "output_type": "display_data"
    }
   ],
   "source": [
    "plt.figure(figsize=(9,5))\n",
    "plt.title('Prediction of Precipitation of Sindhudurg District (Next 30 year) ')\n",
    "plt.xlabel('Years')\n",
    "plt.ylabel('[ in millimetres (mm) ]')\n",
    "plt.plot(df.YEAR,df.PRECIPITATION,label='Precipitation',color='g')\n",
    "plt.plot(df1.YEAR,df1.Pre_Precipitation,'--r',label='predicted Precipitation',color='g')\n",
    "plt.legend(loc=4)"
   ]
  },
  {
   "cell_type": "code",
   "execution_count": 106,
   "metadata": {},
   "outputs": [
    {
     "data": {
      "text/plain": [
       "<matplotlib.legend.Legend at 0x26c48d907c8>"
      ]
     },
     "execution_count": 106,
     "metadata": {},
     "output_type": "execute_result"
    },
    {
     "data": {
      "image/png": "[encoded data removed]",
      "text/plain": [
       "<Figure size 648x360 with 1 Axes>"
      ]
     },
     "metadata": {
      "needs_background": "light"
     },
     "output_type": "display_data"
    }
   ],
   "source": [
    "plt.figure(figsize=(9,5))\n",
    "plt.title('Prediction of Climate of Sindhudurg District (Next 30 year) ')\n",
    "plt.xlabel('[ Years ]')\n",
    "plt.ylabel('')\n",
    "plt.plot(df1.YEAR,df1.Pre_Precipitation,'--',label='',color='g')\n",
    "plt.plot(df1.YEAR,df1.Pre_Avg_Wind_Speed,'--',label='',color='b')\n",
    "plt.plot(df1.YEAR,df1.Pre_MAXIMUM_TEMP,'--',label='',color='r')\n",
    "plt.plot(df1.YEAR,df1.Pre_MINIMUM_TEMP,'--', label='',color='y')\n",
    "plt.plot(df.YEAR,df.PRECIPITATION,label='Precipitation',color='g')\n",
    "plt.plot(df.YEAR,df.MAXIMUM_TEMP,label='maximum Temp',color='r')\n",
    "plt.plot(df.YEAR,df.MINIMUM_TEMP,label='minimum Temp',color='y') \n",
    "plt.plot(df.YEAR,df.AVERAGE_WIND_SPEED,label='Wind speed',color='b')\n",
    "plt.legend(loc=6)"
   ]
  }
 ],
 "metadata": {
  "kernelspec": {
   "display_name": "Python 3",
   "language": "python",
   "name": "python3"
  },
  "language_info": {
   "codemirror_mode": {
    "name": "ipython",
    "version": 3
   },
   "file_extension": ".py",
   "mimetype": "text/x-python",
   "name": "python",
   "nbconvert_exporter": "python",
   "pygments_lexer": "ipython3",
   "version": "3.7.6"
  }
 },
 "nbformat": 4,
 "nbformat_minor": 4
}
