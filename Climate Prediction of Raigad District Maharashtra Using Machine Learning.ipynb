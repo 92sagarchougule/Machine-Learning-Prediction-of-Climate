{
 "cells": [
  {
   "cell_type": "code",
   "execution_count": 262,
   "metadata": {},
   "outputs": [],
   "source": [
    "import pandas as pd\n",
    "import numpy as np\n",
    "import matplotlib.pyplot as plt\n",
    "from sklearn import linear_model\n",
    "%matplotlib inline"
   ]
  },
  {
   "cell_type": "code",
   "execution_count": 263,
   "metadata": {},
   "outputs": [
    {
     "data": {
      "text/html": [
       "<div>\n",
       "<style scoped>\n",
       "    .dataframe tbody tr th:only-of-type {\n",
       "        vertical-align: middle;\n",
       "    }\n",
       "\n",
       "    .dataframe tbody tr th {\n",
       "        vertical-align: top;\n",
       "    }\n",
       "\n",
       "    .dataframe thead th {\n",
       "        text-align: right;\n",
       "    }\n",
       "</style>\n",
       "<table border=\"1\" class=\"dataframe\">\n",
       "  <thead>\n",
       "    <tr style=\"text-align: right;\">\n",
       "      <th></th>\n",
       "      <th>YEAR</th>\n",
       "      <th>MAXIMUM_TEMP</th>\n",
       "      <th>MINIMUM_TEMP</th>\n",
       "      <th>AVERAGE_WIND_SPEED</th>\n",
       "      <th>PRECIPITATION</th>\n",
       "    </tr>\n",
       "  </thead>\n",
       "  <tbody>\n",
       "    <tr>\n",
       "      <th>0</th>\n",
       "      <td>1988</td>\n",
       "      <td>31.283060</td>\n",
       "      <td>22.597772</td>\n",
       "      <td>12.106849</td>\n",
       "      <td>6.268306</td>\n",
       "    </tr>\n",
       "    <tr>\n",
       "      <th>1</th>\n",
       "      <td>1989</td>\n",
       "      <td>30.893699</td>\n",
       "      <td>22.361151</td>\n",
       "      <td>12.120548</td>\n",
       "      <td>5.159615</td>\n",
       "    </tr>\n",
       "    <tr>\n",
       "      <th>2</th>\n",
       "      <td>1990</td>\n",
       "      <td>31.040274</td>\n",
       "      <td>22.709322</td>\n",
       "      <td>13.416438</td>\n",
       "      <td>8.217263</td>\n",
       "    </tr>\n",
       "    <tr>\n",
       "      <th>3</th>\n",
       "      <td>1991</td>\n",
       "      <td>30.820000</td>\n",
       "      <td>22.452762</td>\n",
       "      <td>12.589041</td>\n",
       "      <td>7.212329</td>\n",
       "    </tr>\n",
       "    <tr>\n",
       "      <th>4</th>\n",
       "      <td>1992</td>\n",
       "      <td>31.195820</td>\n",
       "      <td>22.393716</td>\n",
       "      <td>12.502732</td>\n",
       "      <td>5.626503</td>\n",
       "    </tr>\n",
       "    <tr>\n",
       "      <th>5</th>\n",
       "      <td>1993</td>\n",
       "      <td>31.010959</td>\n",
       "      <td>22.585124</td>\n",
       "      <td>12.542466</td>\n",
       "      <td>7.533425</td>\n",
       "    </tr>\n",
       "    <tr>\n",
       "      <th>6</th>\n",
       "      <td>1994</td>\n",
       "      <td>31.032329</td>\n",
       "      <td>22.504384</td>\n",
       "      <td>13.783562</td>\n",
       "      <td>5.981096</td>\n",
       "    </tr>\n",
       "    <tr>\n",
       "      <th>7</th>\n",
       "      <td>1995</td>\n",
       "      <td>31.216164</td>\n",
       "      <td>22.637260</td>\n",
       "      <td>14.035616</td>\n",
       "      <td>4.194521</td>\n",
       "    </tr>\n",
       "    <tr>\n",
       "      <th>8</th>\n",
       "      <td>1996</td>\n",
       "      <td>31.091530</td>\n",
       "      <td>22.686066</td>\n",
       "      <td>17.201521</td>\n",
       "      <td>6.227596</td>\n",
       "    </tr>\n",
       "    <tr>\n",
       "      <th>9</th>\n",
       "      <td>1997</td>\n",
       "      <td>31.196164</td>\n",
       "      <td>22.790411</td>\n",
       "      <td>15.142857</td>\n",
       "      <td>5.372603</td>\n",
       "    </tr>\n",
       "    <tr>\n",
       "      <th>10</th>\n",
       "      <td>1998</td>\n",
       "      <td>31.468767</td>\n",
       "      <td>23.169315</td>\n",
       "      <td>13.677419</td>\n",
       "      <td>7.001918</td>\n",
       "    </tr>\n",
       "    <tr>\n",
       "      <th>11</th>\n",
       "      <td>1999</td>\n",
       "      <td>31.247514</td>\n",
       "      <td>22.830579</td>\n",
       "      <td>12.256198</td>\n",
       "      <td>5.269421</td>\n",
       "    </tr>\n",
       "    <tr>\n",
       "      <th>12</th>\n",
       "      <td>2000</td>\n",
       "      <td>31.543014</td>\n",
       "      <td>22.427492</td>\n",
       "      <td>12.527624</td>\n",
       "      <td>7.034115</td>\n",
       "    </tr>\n",
       "    <tr>\n",
       "      <th>13</th>\n",
       "      <td>2001</td>\n",
       "      <td>31.449041</td>\n",
       "      <td>22.660274</td>\n",
       "      <td>13.457534</td>\n",
       "      <td>4.498356</td>\n",
       "    </tr>\n",
       "    <tr>\n",
       "      <th>14</th>\n",
       "      <td>2002</td>\n",
       "      <td>31.950959</td>\n",
       "      <td>23.319178</td>\n",
       "      <td>12.287671</td>\n",
       "      <td>4.082466</td>\n",
       "    </tr>\n",
       "    <tr>\n",
       "      <th>15</th>\n",
       "      <td>2003</td>\n",
       "      <td>31.676712</td>\n",
       "      <td>23.282740</td>\n",
       "      <td>12.123288</td>\n",
       "      <td>6.145489</td>\n",
       "    </tr>\n",
       "    <tr>\n",
       "      <th>16</th>\n",
       "      <td>2004</td>\n",
       "      <td>31.618852</td>\n",
       "      <td>23.017760</td>\n",
       "      <td>12.339833</td>\n",
       "      <td>7.499454</td>\n",
       "    </tr>\n",
       "    <tr>\n",
       "      <th>17</th>\n",
       "      <td>2005</td>\n",
       "      <td>31.114030</td>\n",
       "      <td>22.405373</td>\n",
       "      <td>11.262195</td>\n",
       "      <td>6.213731</td>\n",
       "    </tr>\n",
       "    <tr>\n",
       "      <th>18</th>\n",
       "      <td>2006</td>\n",
       "      <td>31.506319</td>\n",
       "      <td>23.201648</td>\n",
       "      <td>12.876374</td>\n",
       "      <td>6.315110</td>\n",
       "    </tr>\n",
       "    <tr>\n",
       "      <th>19</th>\n",
       "      <td>2007</td>\n",
       "      <td>31.674622</td>\n",
       "      <td>23.394260</td>\n",
       "      <td>13.105740</td>\n",
       "      <td>9.280363</td>\n",
       "    </tr>\n",
       "    <tr>\n",
       "      <th>20</th>\n",
       "      <td>2008</td>\n",
       "      <td>30.967665</td>\n",
       "      <td>22.705389</td>\n",
       "      <td>13.117470</td>\n",
       "      <td>6.506886</td>\n",
       "    </tr>\n",
       "    <tr>\n",
       "      <th>21</th>\n",
       "      <td>2012</td>\n",
       "      <td>31.061644</td>\n",
       "      <td>22.596712</td>\n",
       "      <td>12.961644</td>\n",
       "      <td>5.034795</td>\n",
       "    </tr>\n",
       "    <tr>\n",
       "      <th>22</th>\n",
       "      <td>2013</td>\n",
       "      <td>30.891209</td>\n",
       "      <td>22.913462</td>\n",
       "      <td>12.753666</td>\n",
       "      <td>5.884066</td>\n",
       "    </tr>\n",
       "    <tr>\n",
       "      <th>23</th>\n",
       "      <td>2014</td>\n",
       "      <td>31.414795</td>\n",
       "      <td>23.178082</td>\n",
       "      <td>12.120548</td>\n",
       "      <td>6.081096</td>\n",
       "    </tr>\n",
       "    <tr>\n",
       "      <th>24</th>\n",
       "      <td>2015</td>\n",
       "      <td>31.855769</td>\n",
       "      <td>23.644505</td>\n",
       "      <td>12.637363</td>\n",
       "      <td>6.638462</td>\n",
       "    </tr>\n",
       "    <tr>\n",
       "      <th>25</th>\n",
       "      <td>2018</td>\n",
       "      <td>31.699174</td>\n",
       "      <td>22.749036</td>\n",
       "      <td>12.519444</td>\n",
       "      <td>5.458127</td>\n",
       "    </tr>\n",
       "  </tbody>\n",
       "</table>\n",
       "</div>"
      ],
      "text/plain": [
       "    YEAR  MAXIMUM_TEMP  MINIMUM_TEMP  AVERAGE_WIND_SPEED  PRECIPITATION\n",
       "0   1988     31.283060     22.597772           12.106849       6.268306\n",
       "1   1989     30.893699     22.361151           12.120548       5.159615\n",
       "2   1990     31.040274     22.709322           13.416438       8.217263\n",
       "3   1991     30.820000     22.452762           12.589041       7.212329\n",
       "4   1992     31.195820     22.393716           12.502732       5.626503\n",
       "5   1993     31.010959     22.585124           12.542466       7.533425\n",
       "6   1994     31.032329     22.504384           13.783562       5.981096\n",
       "7   1995     31.216164     22.637260           14.035616       4.194521\n",
       "8   1996     31.091530     22.686066           17.201521       6.227596\n",
       "9   1997     31.196164     22.790411           15.142857       5.372603\n",
       "10  1998     31.468767     23.169315           13.677419       7.001918\n",
       "11  1999     31.247514     22.830579           12.256198       5.269421\n",
       "12  2000     31.543014     22.427492           12.527624       7.034115\n",
       "13  2001     31.449041     22.660274           13.457534       4.498356\n",
       "14  2002     31.950959     23.319178           12.287671       4.082466\n",
       "15  2003     31.676712     23.282740           12.123288       6.145489\n",
       "16  2004     31.618852     23.017760           12.339833       7.499454\n",
       "17  2005     31.114030     22.405373           11.262195       6.213731\n",
       "18  2006     31.506319     23.201648           12.876374       6.315110\n",
       "19  2007     31.674622     23.394260           13.105740       9.280363\n",
       "20  2008     30.967665     22.705389           13.117470       6.506886\n",
       "21  2012     31.061644     22.596712           12.961644       5.034795\n",
       "22  2013     30.891209     22.913462           12.753666       5.884066\n",
       "23  2014     31.414795     23.178082           12.120548       6.081096\n",
       "24  2015     31.855769     23.644505           12.637363       6.638462\n",
       "25  2018     31.699174     22.749036           12.519444       5.458127"
      ]
     },
     "execution_count": 263,
     "metadata": {},
     "output_type": "execute_result"
    }
   ],
   "source": [
    "df = pd.read_csv('Raigad.csv')\n",
    "df"
   ]
  },
  {
   "cell_type": "code",
   "execution_count": 264,
   "metadata": {},
   "outputs": [
    {
     "data": {
      "text/plain": [
       "<matplotlib.legend.Legend at 0x16e179f6048>"
      ]
     },
     "execution_count": 264,
     "metadata": {},
     "output_type": "execute_result"
    },
    {
     "data": {
      "image/png": "[encoded data removed]",
      "text/plain": [
       "<Figure size 504x360 with 1 Axes>"
      ]
     },
     "metadata": {
      "needs_background": "light"
     },
     "output_type": "display_data"
    }
   ],
   "source": [
    "plt.figure(figsize=(7,5))\n",
    "plt.title('Raigad District Average Climate data (1988 to 2018)')\n",
    "plt.xlabel(' [ Years ]')\n",
    "plt.ylabel('[ Temperature ]')\n",
    "plt.plot(df.YEAR,df.MAXIMUM_TEMP,label='maximum Temp',color='r')\n",
    "plt.plot(df.YEAR,df.MINIMUM_TEMP,label='minimum Temp',color='y')\n",
    "plt.legend()"
   ]
  },
  {
   "cell_type": "code",
   "execution_count": 265,
   "metadata": {},
   "outputs": [
    {
     "data": {
      "text/plain": [
       "<matplotlib.legend.Legend at 0x16e17a55ac8>"
      ]
     },
     "execution_count": 265,
     "metadata": {},
     "output_type": "execute_result"
    },
    {
     "data": {
      "image/png": "[encoded data removed]",
      "text/plain": [
       "<Figure size 504x360 with 1 Axes>"
      ]
     },
     "metadata": {
      "needs_background": "light"
     },
     "output_type": "display_data"
    }
   ],
   "source": [
    "plt.figure(figsize=(7,5))\n",
    "plt.title('Raigad District Average Wind Speed (1988 to 2018)')\n",
    "plt.xlabel('[ Years ]')\n",
    "plt.ylabel('[ velocity Meters per second (m/s) ]')\n",
    "plt.plot(df.YEAR,df.AVERAGE_WIND_SPEED,label='Wind speed',color='b')\n",
    "plt.legend(loc=5)"
   ]
  },
  {
   "cell_type": "code",
   "execution_count": 302,
   "metadata": {},
   "outputs": [
    {
     "data": {
      "text/plain": [
       "<matplotlib.legend.Legend at 0x16e19203748>"
      ]
     },
     "execution_count": 302,
     "metadata": {},
     "output_type": "execute_result"
    },
    {
     "data": {
      "image/png": "[encoded data removed]",
      "text/plain": [
       "<Figure size 504x360 with 1 Axes>"
      ]
     },
     "metadata": {
      "needs_background": "light"
     },
     "output_type": "display_data"
    }
   ],
   "source": [
    "plt.figure(figsize=(7,5))\n",
    "plt.title('Raigad District Average Precipitation (1988 to 2018)')\n",
    "plt.xlabel('[ Years ]')\n",
    "plt.ylabel('[ in millimetres (mm) ]')\n",
    "plt.plot(df.YEAR,df.PRECIPITATION,label='Rainfall',color='g')\n",
    "plt.legend(loc=1)"
   ]
  },
  {
   "cell_type": "markdown",
   "metadata": {},
   "source": [
    "# Model"
   ]
  },
  {
   "cell_type": "code",
   "execution_count": 303,
   "metadata": {},
   "outputs": [],
   "source": [
    "reg = linear_model.LinearRegression()"
   ]
  },
  {
   "cell_type": "markdown",
   "metadata": {},
   "source": [
    "# Equation for calculation of Climate Data"
   ]
  },
  {
   "cell_type": "markdown",
   "metadata": {},
   "source": [
    "# Max-Temp = M * Year + B"
   ]
  },
  {
   "cell_type": "markdown",
   "metadata": {},
   "source": [
    "\n",
    "\n",
    "M = reg.coef_\n",
    "\n",
    "Year = Year of Rainfall\n",
    "\n",
    "B = reg.intercept_"
   ]
  },
  {
   "cell_type": "code",
   "execution_count": 304,
   "metadata": {},
   "outputs": [
    {
     "data": {
      "text/html": [
       "<div>\n",
       "<style scoped>\n",
       "    .dataframe tbody tr th:only-of-type {\n",
       "        vertical-align: middle;\n",
       "    }\n",
       "\n",
       "    .dataframe tbody tr th {\n",
       "        vertical-align: top;\n",
       "    }\n",
       "\n",
       "    .dataframe thead th {\n",
       "        text-align: right;\n",
       "    }\n",
       "</style>\n",
       "<table border=\"1\" class=\"dataframe\">\n",
       "  <thead>\n",
       "    <tr style=\"text-align: right;\">\n",
       "      <th></th>\n",
       "      <th>YEAR</th>\n",
       "    </tr>\n",
       "  </thead>\n",
       "  <tbody>\n",
       "    <tr>\n",
       "      <th>0</th>\n",
       "      <td>2019</td>\n",
       "    </tr>\n",
       "    <tr>\n",
       "      <th>1</th>\n",
       "      <td>2020</td>\n",
       "    </tr>\n",
       "    <tr>\n",
       "      <th>2</th>\n",
       "      <td>2021</td>\n",
       "    </tr>\n",
       "    <tr>\n",
       "      <th>3</th>\n",
       "      <td>2022</td>\n",
       "    </tr>\n",
       "    <tr>\n",
       "      <th>4</th>\n",
       "      <td>2023</td>\n",
       "    </tr>\n",
       "  </tbody>\n",
       "</table>\n",
       "</div>"
      ],
      "text/plain": [
       "   YEAR\n",
       "0  2019\n",
       "1  2020\n",
       "2  2021\n",
       "3  2022\n",
       "4  2023"
      ]
     },
     "execution_count": 304,
     "metadata": {},
     "output_type": "execute_result"
    }
   ],
   "source": [
    "df1 = pd.read_csv('Year_to_predicted_rainfall.csv')\n",
    "df1.head()"
   ]
  },
  {
   "cell_type": "code",
   "execution_count": 305,
   "metadata": {},
   "outputs": [],
   "source": [
    "MAXIMUM_TEMP = reg.fit(df[['YEAR']],df.MAXIMUM_TEMP)\n",
    "Max_Temp = MAXIMUM_TEMP.predict(df1)"
   ]
  },
  {
   "cell_type": "code",
   "execution_count": 306,
   "metadata": {},
   "outputs": [
    {
     "data": {
      "text/plain": [
       "array([0.01612671])"
      ]
     },
     "execution_count": 306,
     "metadata": {},
     "output_type": "execute_result"
    }
   ],
   "source": [
    "MAXIMUM_TEMP.coef_       #Coefficient of ---- M value   "
   ]
  },
  {
   "cell_type": "code",
   "execution_count": 307,
   "metadata": {},
   "outputs": [
    {
     "data": {
      "text/plain": [
       "-0.9674087918791301"
      ]
     },
     "execution_count": 307,
     "metadata": {},
     "output_type": "execute_result"
    }
   ],
   "source": [
    "MAXIMUM_TEMP.intercept_  #  intercept value ---- B value"
   ]
  },
  {
   "cell_type": "code",
   "execution_count": null,
   "metadata": {},
   "outputs": [],
   "source": []
  },
  {
   "cell_type": "markdown",
   "metadata": {},
   "source": [
    "# Mini-Temp= M * Year + B"
   ]
  },
  {
   "cell_type": "markdown",
   "metadata": {},
   "source": [
    "M = reg.coef_\n",
    "\n",
    "#Year = Year of Rainfall\n",
    "\n",
    "#B = reg.intercept_"
   ]
  },
  {
   "cell_type": "code",
   "execution_count": 308,
   "metadata": {},
   "outputs": [],
   "source": [
    "MINIMUM_TEMP = reg.fit(df[['YEAR']],df.MINIMUM_TEMP)\n",
    "Min_Temp = MINIMUM_TEMP.predict(df1)"
   ]
  },
  {
   "cell_type": "code",
   "execution_count": 309,
   "metadata": {},
   "outputs": [
    {
     "data": {
      "text/plain": [
       "array([0.02184005])"
      ]
     },
     "execution_count": 309,
     "metadata": {},
     "output_type": "execute_result"
    }
   ],
   "source": [
    "MINIMUM_TEMP.coef_  "
   ]
  },
  {
   "cell_type": "code",
   "execution_count": 310,
   "metadata": {},
   "outputs": [
    {
     "data": {
      "text/plain": [
       "-20.889381980010217"
      ]
     },
     "execution_count": 310,
     "metadata": {},
     "output_type": "execute_result"
    }
   ],
   "source": [
    "MINIMUM_TEMP.intercept_"
   ]
  },
  {
   "cell_type": "code",
   "execution_count": null,
   "metadata": {},
   "outputs": [],
   "source": []
  },
  {
   "cell_type": "markdown",
   "metadata": {},
   "source": [
    "# Wind-Speed = M * Year + B"
   ]
  },
  {
   "cell_type": "code",
   "execution_count": 311,
   "metadata": {},
   "outputs": [],
   "source": [
    "AVERAGE_WIND_SPEED = reg.fit(df[['YEAR']],df.AVERAGE_WIND_SPEED)\n",
    "Avg_Wind_Speed = AVERAGE_WIND_SPEED.predict(df1)"
   ]
  },
  {
   "cell_type": "code",
   "execution_count": 312,
   "metadata": {},
   "outputs": [],
   "source": [
    "#M = reg.coef_\n",
    "\n",
    "#Year = Year of Rainfall\n",
    "\n",
    "#B = reg.intercept_"
   ]
  },
  {
   "cell_type": "code",
   "execution_count": 313,
   "metadata": {},
   "outputs": [
    {
     "data": {
      "text/plain": [
       "array([-0.02666206])"
      ]
     },
     "execution_count": 313,
     "metadata": {},
     "output_type": "execute_result"
    }
   ],
   "source": [
    "AVERAGE_WIND_SPEED.coef_"
   ]
  },
  {
   "cell_type": "code",
   "execution_count": 314,
   "metadata": {},
   "outputs": [
    {
     "data": {
      "text/plain": [
       "66.33433965342134"
      ]
     },
     "execution_count": 314,
     "metadata": {},
     "output_type": "execute_result"
    }
   ],
   "source": [
    "AVERAGE_WIND_SPEED.intercept_"
   ]
  },
  {
   "cell_type": "code",
   "execution_count": null,
   "metadata": {},
   "outputs": [],
   "source": []
  },
  {
   "cell_type": "markdown",
   "metadata": {},
   "source": [
    "# Rainfall = M * Year + B"
   ]
  },
  {
   "cell_type": "code",
   "execution_count": 315,
   "metadata": {},
   "outputs": [],
   "source": [
    "Pre_PRECIPITATION = reg.fit(df[['YEAR']],df.PRECIPITATION)\n",
    "Precipitation = Pre_PRECIPITATION.predict(df1)"
   ]
  },
  {
   "cell_type": "code",
   "execution_count": 316,
   "metadata": {},
   "outputs": [],
   "source": [
    "#M = reg.coef_\n",
    "\n",
    "#Year = Year of Rainfall\n",
    "\n",
    "#B = reg.intercept_"
   ]
  },
  {
   "cell_type": "code",
   "execution_count": 317,
   "metadata": {},
   "outputs": [
    {
     "data": {
      "text/plain": [
       "array([-0.00665186])"
      ]
     },
     "execution_count": 317,
     "metadata": {},
     "output_type": "execute_result"
    }
   ],
   "source": [
    "Pre_PRECIPITATION.coef_"
   ]
  },
  {
   "cell_type": "code",
   "execution_count": 318,
   "metadata": {},
   "outputs": [
    {
     "data": {
      "text/plain": [
       "19.493583072318753"
      ]
     },
     "execution_count": 318,
     "metadata": {},
     "output_type": "execute_result"
    }
   ],
   "source": [
    "Pre_PRECIPITATION.intercept_"
   ]
  },
  {
   "cell_type": "code",
   "execution_count": null,
   "metadata": {},
   "outputs": [],
   "source": []
  },
  {
   "cell_type": "code",
   "execution_count": 319,
   "metadata": {},
   "outputs": [],
   "source": [
    "df1['Pre_MAXIMUM_TEMP'] = Max_Temp"
   ]
  },
  {
   "cell_type": "code",
   "execution_count": 320,
   "metadata": {},
   "outputs": [],
   "source": [
    "df1['Pre_MINIMUM_TEMP'] = Min_Temp"
   ]
  },
  {
   "cell_type": "code",
   "execution_count": 321,
   "metadata": {},
   "outputs": [],
   "source": [
    "df1['Pre_Avg_Wind_Speed'] = Avg_Wind_Speed"
   ]
  },
  {
   "cell_type": "code",
   "execution_count": 322,
   "metadata": {},
   "outputs": [],
   "source": [
    "df1['Pre_Precipitation'] = Precipitation"
   ]
  },
  {
   "cell_type": "code",
   "execution_count": 323,
   "metadata": {},
   "outputs": [
    {
     "data": {
      "text/html": [
       "<div>\n",
       "<style scoped>\n",
       "    .dataframe tbody tr th:only-of-type {\n",
       "        vertical-align: middle;\n",
       "    }\n",
       "\n",
       "    .dataframe tbody tr th {\n",
       "        vertical-align: top;\n",
       "    }\n",
       "\n",
       "    .dataframe thead th {\n",
       "        text-align: right;\n",
       "    }\n",
       "</style>\n",
       "<table border=\"1\" class=\"dataframe\">\n",
       "  <thead>\n",
       "    <tr style=\"text-align: right;\">\n",
       "      <th></th>\n",
       "      <th>YEAR</th>\n",
       "      <th>Pre_MAXIMUM_TEMP</th>\n",
       "      <th>Pre_MINIMUM_TEMP</th>\n",
       "      <th>Pre_Avg_Wind_Speed</th>\n",
       "      <th>Pre_Precipitation</th>\n",
       "    </tr>\n",
       "  </thead>\n",
       "  <tbody>\n",
       "    <tr>\n",
       "      <th>0</th>\n",
       "      <td>2019</td>\n",
       "      <td>31.592418</td>\n",
       "      <td>23.205675</td>\n",
       "      <td>12.503632</td>\n",
       "      <td>6.063486</td>\n",
       "    </tr>\n",
       "    <tr>\n",
       "      <th>1</th>\n",
       "      <td>2020</td>\n",
       "      <td>31.608545</td>\n",
       "      <td>23.227515</td>\n",
       "      <td>12.476970</td>\n",
       "      <td>6.056835</td>\n",
       "    </tr>\n",
       "    <tr>\n",
       "      <th>2</th>\n",
       "      <td>2021</td>\n",
       "      <td>31.624672</td>\n",
       "      <td>23.249355</td>\n",
       "      <td>12.450308</td>\n",
       "      <td>6.050183</td>\n",
       "    </tr>\n",
       "    <tr>\n",
       "      <th>3</th>\n",
       "      <td>2022</td>\n",
       "      <td>31.640798</td>\n",
       "      <td>23.271195</td>\n",
       "      <td>12.423646</td>\n",
       "      <td>6.043531</td>\n",
       "    </tr>\n",
       "    <tr>\n",
       "      <th>4</th>\n",
       "      <td>2023</td>\n",
       "      <td>31.656925</td>\n",
       "      <td>23.293035</td>\n",
       "      <td>12.396984</td>\n",
       "      <td>6.036879</td>\n",
       "    </tr>\n",
       "    <tr>\n",
       "      <th>5</th>\n",
       "      <td>2024</td>\n",
       "      <td>31.673052</td>\n",
       "      <td>23.314875</td>\n",
       "      <td>12.370322</td>\n",
       "      <td>6.030227</td>\n",
       "    </tr>\n",
       "    <tr>\n",
       "      <th>6</th>\n",
       "      <td>2025</td>\n",
       "      <td>31.689179</td>\n",
       "      <td>23.336715</td>\n",
       "      <td>12.343660</td>\n",
       "      <td>6.023575</td>\n",
       "    </tr>\n",
       "    <tr>\n",
       "      <th>7</th>\n",
       "      <td>2026</td>\n",
       "      <td>31.705305</td>\n",
       "      <td>23.358555</td>\n",
       "      <td>12.316998</td>\n",
       "      <td>6.016923</td>\n",
       "    </tr>\n",
       "    <tr>\n",
       "      <th>8</th>\n",
       "      <td>2027</td>\n",
       "      <td>31.721432</td>\n",
       "      <td>23.380396</td>\n",
       "      <td>12.290336</td>\n",
       "      <td>6.010272</td>\n",
       "    </tr>\n",
       "    <tr>\n",
       "      <th>9</th>\n",
       "      <td>2028</td>\n",
       "      <td>31.737559</td>\n",
       "      <td>23.402236</td>\n",
       "      <td>12.263674</td>\n",
       "      <td>6.003620</td>\n",
       "    </tr>\n",
       "    <tr>\n",
       "      <th>10</th>\n",
       "      <td>2030</td>\n",
       "      <td>31.769812</td>\n",
       "      <td>23.445916</td>\n",
       "      <td>12.210350</td>\n",
       "      <td>5.990316</td>\n",
       "    </tr>\n",
       "    <tr>\n",
       "      <th>11</th>\n",
       "      <td>2031</td>\n",
       "      <td>31.785939</td>\n",
       "      <td>23.467756</td>\n",
       "      <td>12.183688</td>\n",
       "      <td>5.983664</td>\n",
       "    </tr>\n",
       "    <tr>\n",
       "      <th>12</th>\n",
       "      <td>2032</td>\n",
       "      <td>31.802066</td>\n",
       "      <td>23.489596</td>\n",
       "      <td>12.157026</td>\n",
       "      <td>5.977012</td>\n",
       "    </tr>\n",
       "    <tr>\n",
       "      <th>13</th>\n",
       "      <td>2033</td>\n",
       "      <td>31.818192</td>\n",
       "      <td>23.511436</td>\n",
       "      <td>12.130364</td>\n",
       "      <td>5.970360</td>\n",
       "    </tr>\n",
       "    <tr>\n",
       "      <th>14</th>\n",
       "      <td>2034</td>\n",
       "      <td>31.834319</td>\n",
       "      <td>23.533276</td>\n",
       "      <td>12.103702</td>\n",
       "      <td>5.963709</td>\n",
       "    </tr>\n",
       "    <tr>\n",
       "      <th>15</th>\n",
       "      <td>2035</td>\n",
       "      <td>31.850446</td>\n",
       "      <td>23.555116</td>\n",
       "      <td>12.077039</td>\n",
       "      <td>5.957057</td>\n",
       "    </tr>\n",
       "    <tr>\n",
       "      <th>16</th>\n",
       "      <td>2036</td>\n",
       "      <td>31.866572</td>\n",
       "      <td>23.576956</td>\n",
       "      <td>12.050377</td>\n",
       "      <td>5.950405</td>\n",
       "    </tr>\n",
       "    <tr>\n",
       "      <th>17</th>\n",
       "      <td>2037</td>\n",
       "      <td>31.882699</td>\n",
       "      <td>23.598796</td>\n",
       "      <td>12.023715</td>\n",
       "      <td>5.943753</td>\n",
       "    </tr>\n",
       "    <tr>\n",
       "      <th>18</th>\n",
       "      <td>2038</td>\n",
       "      <td>31.898826</td>\n",
       "      <td>23.620636</td>\n",
       "      <td>11.997053</td>\n",
       "      <td>5.937101</td>\n",
       "    </tr>\n",
       "    <tr>\n",
       "      <th>19</th>\n",
       "      <td>2039</td>\n",
       "      <td>31.914953</td>\n",
       "      <td>23.642476</td>\n",
       "      <td>11.970391</td>\n",
       "      <td>5.930449</td>\n",
       "    </tr>\n",
       "    <tr>\n",
       "      <th>20</th>\n",
       "      <td>2040</td>\n",
       "      <td>31.931079</td>\n",
       "      <td>23.664316</td>\n",
       "      <td>11.943729</td>\n",
       "      <td>5.923797</td>\n",
       "    </tr>\n",
       "    <tr>\n",
       "      <th>21</th>\n",
       "      <td>2041</td>\n",
       "      <td>31.947206</td>\n",
       "      <td>23.686156</td>\n",
       "      <td>11.917067</td>\n",
       "      <td>5.917146</td>\n",
       "    </tr>\n",
       "    <tr>\n",
       "      <th>22</th>\n",
       "      <td>2042</td>\n",
       "      <td>31.963333</td>\n",
       "      <td>23.707996</td>\n",
       "      <td>11.890405</td>\n",
       "      <td>5.910494</td>\n",
       "    </tr>\n",
       "    <tr>\n",
       "      <th>23</th>\n",
       "      <td>2043</td>\n",
       "      <td>31.979459</td>\n",
       "      <td>23.729836</td>\n",
       "      <td>11.863743</td>\n",
       "      <td>5.903842</td>\n",
       "    </tr>\n",
       "    <tr>\n",
       "      <th>24</th>\n",
       "      <td>2044</td>\n",
       "      <td>31.995586</td>\n",
       "      <td>23.751676</td>\n",
       "      <td>11.837081</td>\n",
       "      <td>5.897190</td>\n",
       "    </tr>\n",
       "    <tr>\n",
       "      <th>25</th>\n",
       "      <td>2046</td>\n",
       "      <td>32.027840</td>\n",
       "      <td>23.795356</td>\n",
       "      <td>11.783757</td>\n",
       "      <td>5.883886</td>\n",
       "    </tr>\n",
       "    <tr>\n",
       "      <th>26</th>\n",
       "      <td>2047</td>\n",
       "      <td>32.043966</td>\n",
       "      <td>23.817197</td>\n",
       "      <td>11.757095</td>\n",
       "      <td>5.877235</td>\n",
       "    </tr>\n",
       "    <tr>\n",
       "      <th>27</th>\n",
       "      <td>2048</td>\n",
       "      <td>32.060093</td>\n",
       "      <td>23.839037</td>\n",
       "      <td>11.730433</td>\n",
       "      <td>5.870583</td>\n",
       "    </tr>\n",
       "    <tr>\n",
       "      <th>28</th>\n",
       "      <td>2049</td>\n",
       "      <td>32.076220</td>\n",
       "      <td>23.860877</td>\n",
       "      <td>11.703771</td>\n",
       "      <td>5.863931</td>\n",
       "    </tr>\n",
       "    <tr>\n",
       "      <th>29</th>\n",
       "      <td>2050</td>\n",
       "      <td>32.092346</td>\n",
       "      <td>23.882717</td>\n",
       "      <td>11.677108</td>\n",
       "      <td>5.857279</td>\n",
       "    </tr>\n",
       "  </tbody>\n",
       "</table>\n",
       "</div>"
      ],
      "text/plain": [
       "    YEAR  Pre_MAXIMUM_TEMP  Pre_MINIMUM_TEMP  Pre_Avg_Wind_Speed  \\\n",
       "0   2019         31.592418         23.205675           12.503632   \n",
       "1   2020         31.608545         23.227515           12.476970   \n",
       "2   2021         31.624672         23.249355           12.450308   \n",
       "3   2022         31.640798         23.271195           12.423646   \n",
       "4   2023         31.656925         23.293035           12.396984   \n",
       "5   2024         31.673052         23.314875           12.370322   \n",
       "6   2025         31.689179         23.336715           12.343660   \n",
       "7   2026         31.705305         23.358555           12.316998   \n",
       "8   2027         31.721432         23.380396           12.290336   \n",
       "9   2028         31.737559         23.402236           12.263674   \n",
       "10  2030         31.769812         23.445916           12.210350   \n",
       "11  2031         31.785939         23.467756           12.183688   \n",
       "12  2032         31.802066         23.489596           12.157026   \n",
       "13  2033         31.818192         23.511436           12.130364   \n",
       "14  2034         31.834319         23.533276           12.103702   \n",
       "15  2035         31.850446         23.555116           12.077039   \n",
       "16  2036         31.866572         23.576956           12.050377   \n",
       "17  2037         31.882699         23.598796           12.023715   \n",
       "18  2038         31.898826         23.620636           11.997053   \n",
       "19  2039         31.914953         23.642476           11.970391   \n",
       "20  2040         31.931079         23.664316           11.943729   \n",
       "21  2041         31.947206         23.686156           11.917067   \n",
       "22  2042         31.963333         23.707996           11.890405   \n",
       "23  2043         31.979459         23.729836           11.863743   \n",
       "24  2044         31.995586         23.751676           11.837081   \n",
       "25  2046         32.027840         23.795356           11.783757   \n",
       "26  2047         32.043966         23.817197           11.757095   \n",
       "27  2048         32.060093         23.839037           11.730433   \n",
       "28  2049         32.076220         23.860877           11.703771   \n",
       "29  2050         32.092346         23.882717           11.677108   \n",
       "\n",
       "    Pre_Precipitation  \n",
       "0            6.063486  \n",
       "1            6.056835  \n",
       "2            6.050183  \n",
       "3            6.043531  \n",
       "4            6.036879  \n",
       "5            6.030227  \n",
       "6            6.023575  \n",
       "7            6.016923  \n",
       "8            6.010272  \n",
       "9            6.003620  \n",
       "10           5.990316  \n",
       "11           5.983664  \n",
       "12           5.977012  \n",
       "13           5.970360  \n",
       "14           5.963709  \n",
       "15           5.957057  \n",
       "16           5.950405  \n",
       "17           5.943753  \n",
       "18           5.937101  \n",
       "19           5.930449  \n",
       "20           5.923797  \n",
       "21           5.917146  \n",
       "22           5.910494  \n",
       "23           5.903842  \n",
       "24           5.897190  \n",
       "25           5.883886  \n",
       "26           5.877235  \n",
       "27           5.870583  \n",
       "28           5.863931  \n",
       "29           5.857279  "
      ]
     },
     "execution_count": 323,
     "metadata": {},
     "output_type": "execute_result"
    }
   ],
   "source": [
    "df1   #Predicted Rainfall Using Single Variable linear Regression"
   ]
  },
  {
   "cell_type": "code",
   "execution_count": 324,
   "metadata": {},
   "outputs": [
    {
     "data": {
      "text/plain": [
       "<matplotlib.legend.Legend at 0x16e19290c48>"
      ]
     },
     "execution_count": 324,
     "metadata": {},
     "output_type": "execute_result"
    },
    {
     "data": {
      "image/png": "[encoded data removed]",
      "text/plain": [
       "<Figure size 648x360 with 1 Axes>"
      ]
     },
     "metadata": {
      "needs_background": "light"
     },
     "output_type": "display_data"
    }
   ],
   "source": [
    "plt.figure(figsize=(9,5))\n",
    "plt.title('Next 30 year Prediction of Max & Min Temperature')\n",
    "plt.xlabel('Years')\n",
    "plt.ylabel('Temperature')\n",
    "plt.plot(df.YEAR,df.MAXIMUM_TEMP,label='maximum Temp',color='r')\n",
    "plt.plot(df.YEAR,df.MINIMUM_TEMP,label='minimum Temp',color='y') \n",
    "plt.plot(df1.YEAR,df1.Pre_MAXIMUM_TEMP,'--',label='predicted maximum Temp',color='r')\n",
    "plt.plot(df1.YEAR,df1.Pre_MINIMUM_TEMP,'--', label='predicted minimum Temp',color='y')\n",
    "plt.legend()"
   ]
  },
  {
   "cell_type": "code",
   "execution_count": 325,
   "metadata": {},
   "outputs": [
    {
     "data": {
      "text/plain": [
       "<matplotlib.legend.Legend at 0x16e193068c8>"
      ]
     },
     "execution_count": 325,
     "metadata": {},
     "output_type": "execute_result"
    },
    {
     "data": {
      "image/png": "[encoded data removed]",
      "text/plain": [
       "<Figure size 648x360 with 1 Axes>"
      ]
     },
     "metadata": {
      "needs_background": "light"
     },
     "output_type": "display_data"
    }
   ],
   "source": [
    "plt.figure(figsize=(9,5))\n",
    "plt.title('Prediction of Wind Speed of Raigad District (Next 30 year) ')\n",
    "plt.xlabel('[ Years ]')\n",
    "plt.ylabel(' [ velocity Meters per second (m/s)  ]')\n",
    "plt.plot(df.YEAR,df.AVERAGE_WIND_SPEED,label='Wind speed',color='b')\n",
    "plt.plot(df1.YEAR,df1.Pre_Avg_Wind_Speed,'--g',label='predicted Wind speed',color='b')\n",
    "plt.legend(loc=5)"
   ]
  },
  {
   "cell_type": "code",
   "execution_count": 326,
   "metadata": {},
   "outputs": [
    {
     "data": {
      "text/plain": [
       "<matplotlib.legend.Legend at 0x16e1937cc48>"
      ]
     },
     "execution_count": 326,
     "metadata": {},
     "output_type": "execute_result"
    },
    {
     "data": {
      "image/png": "[encoded data removed]",
      "text/plain": [
       "<Figure size 648x360 with 1 Axes>"
      ]
     },
     "metadata": {
      "needs_background": "light"
     },
     "output_type": "display_data"
    }
   ],
   "source": [
    "plt.figure(figsize=(9,5))\n",
    "plt.title('Prediction of Precipitation of Raigad District (Next 30 year) ')\n",
    "plt.xlabel('Years')\n",
    "plt.ylabel('[ in millimetres (mm) ]')\n",
    "plt.plot(df.YEAR,df.PRECIPITATION,label='Precipitation',color='g')\n",
    "plt.plot(df1.YEAR,df1.Pre_Precipitation,'--r',label='predicted Precipitation',color='g')\n",
    "plt.legend(loc=1)"
   ]
  },
  {
   "cell_type": "code",
   "execution_count": 327,
   "metadata": {},
   "outputs": [
    {
     "data": {
      "text/plain": [
       "<matplotlib.legend.Legend at 0x16e19410f08>"
      ]
     },
     "execution_count": 327,
     "metadata": {},
     "output_type": "execute_result"
    },
    {
     "data": {
      "image/png": "[encoded data removed]",
      "text/plain": [
       "<Figure size 648x360 with 1 Axes>"
      ]
     },
     "metadata": {
      "needs_background": "light"
     },
     "output_type": "display_data"
    }
   ],
   "source": [
    "plt.figure(figsize=(9,5))\n",
    "plt.title('Prediction of Climate of Raigad District (Next 30 year) ')\n",
    "plt.xlabel('[ Years ]')\n",
    "plt.ylabel('')\n",
    "plt.plot(df1.YEAR,df1.Pre_Precipitation,'--',label='',color='g')\n",
    "plt.plot(df1.YEAR,df1.Pre_Avg_Wind_Speed,'--',label='',color='b')\n",
    "plt.plot(df1.YEAR,df1.Pre_MAXIMUM_TEMP,'--',label='',color='r')\n",
    "plt.plot(df1.YEAR,df1.Pre_MINIMUM_TEMP,'--', label='',color='y')\n",
    "plt.plot(df.YEAR,df.PRECIPITATION,label='Precipitation',color='g')\n",
    "plt.plot(df.YEAR,df.MAXIMUM_TEMP,label='maximum Temp',color='r')\n",
    "plt.plot(df.YEAR,df.MINIMUM_TEMP,label='minimum Temp',color='y') \n",
    "plt.plot(df.YEAR,df.AVERAGE_WIND_SPEED,label='Wind speed',color='b')\n",
    "plt.legend(loc=5)"
   ]
  }
 ],
 "metadata": {
  "kernelspec": {
   "display_name": "Python 3",
   "language": "python",
   "name": "python3"
  },
  "language_info": {
   "codemirror_mode": {
    "name": "ipython",
    "version": 3
   },
   "file_extension": ".py",
   "mimetype": "text/x-python",
   "name": "python",
   "nbconvert_exporter": "python",
   "pygments_lexer": "ipython3",
   "version": "3.7.6"
  }
 },
 "nbformat": 4,
 "nbformat_minor": 4
}
