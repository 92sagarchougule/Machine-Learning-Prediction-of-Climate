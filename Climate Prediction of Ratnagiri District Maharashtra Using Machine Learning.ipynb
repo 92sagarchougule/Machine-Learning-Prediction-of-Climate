{
 "cells": [
  {
   "cell_type": "code",
   "execution_count": 47,
   "metadata": {},
   "outputs": [],
   "source": [
    "import pandas as pd\n",
    "import numpy as np\n",
    "import matplotlib.pyplot as plt\n",
    "from sklearn import linear_model\n",
    "%matplotlib inline"
   ]
  },
  {
   "cell_type": "code",
   "execution_count": 48,
   "metadata": {},
   "outputs": [
    {
     "data": {
      "text/html": [
       "<div>\n",
       "<style scoped>\n",
       "    .dataframe tbody tr th:only-of-type {\n",
       "        vertical-align: middle;\n",
       "    }\n",
       "\n",
       "    .dataframe tbody tr th {\n",
       "        vertical-align: top;\n",
       "    }\n",
       "\n",
       "    .dataframe thead th {\n",
       "        text-align: right;\n",
       "    }\n",
       "</style>\n",
       "<table border=\"1\" class=\"dataframe\">\n",
       "  <thead>\n",
       "    <tr style=\"text-align: right;\">\n",
       "      <th></th>\n",
       "      <th>Sr.No.</th>\n",
       "      <th>YEAR</th>\n",
       "      <th>MAXIMUM_TEMP</th>\n",
       "      <th>MINIMUM_TEMP</th>\n",
       "      <th>AVERAGE_WIND_SPEED</th>\n",
       "      <th>PRECIPITATION</th>\n",
       "    </tr>\n",
       "  </thead>\n",
       "  <tbody>\n",
       "    <tr>\n",
       "      <th>0</th>\n",
       "      <td>1</td>\n",
       "      <td>1988</td>\n",
       "      <td>31.159836</td>\n",
       "      <td>22.942896</td>\n",
       "      <td>10.129870</td>\n",
       "      <td>9.295628</td>\n",
       "    </tr>\n",
       "    <tr>\n",
       "      <th>1</th>\n",
       "      <td>2</td>\n",
       "      <td>1989</td>\n",
       "      <td>31.175890</td>\n",
       "      <td>22.777534</td>\n",
       "      <td>9.846154</td>\n",
       "      <td>9.695068</td>\n",
       "    </tr>\n",
       "    <tr>\n",
       "      <th>2</th>\n",
       "      <td>3</td>\n",
       "      <td>1990</td>\n",
       "      <td>30.940000</td>\n",
       "      <td>22.560714</td>\n",
       "      <td>9.541063</td>\n",
       "      <td>9.441644</td>\n",
       "    </tr>\n",
       "    <tr>\n",
       "      <th>3</th>\n",
       "      <td>4</td>\n",
       "      <td>1991</td>\n",
       "      <td>31.120661</td>\n",
       "      <td>22.626099</td>\n",
       "      <td>9.181818</td>\n",
       "      <td>8.157967</td>\n",
       "    </tr>\n",
       "    <tr>\n",
       "      <th>4</th>\n",
       "      <td>5</td>\n",
       "      <td>1992</td>\n",
       "      <td>31.167213</td>\n",
       "      <td>22.548907</td>\n",
       "      <td>9.437299</td>\n",
       "      <td>9.009290</td>\n",
       "    </tr>\n",
       "    <tr>\n",
       "      <th>5</th>\n",
       "      <td>6</td>\n",
       "      <td>1993</td>\n",
       "      <td>31.145580</td>\n",
       "      <td>22.871823</td>\n",
       "      <td>9.555249</td>\n",
       "      <td>9.823204</td>\n",
       "    </tr>\n",
       "    <tr>\n",
       "      <th>6</th>\n",
       "      <td>7</td>\n",
       "      <td>1994</td>\n",
       "      <td>30.950685</td>\n",
       "      <td>22.846027</td>\n",
       "      <td>9.332410</td>\n",
       "      <td>6.987945</td>\n",
       "    </tr>\n",
       "    <tr>\n",
       "      <th>7</th>\n",
       "      <td>8</td>\n",
       "      <td>1995</td>\n",
       "      <td>31.208506</td>\n",
       "      <td>22.715385</td>\n",
       "      <td>8.329577</td>\n",
       "      <td>8.209863</td>\n",
       "    </tr>\n",
       "    <tr>\n",
       "      <th>8</th>\n",
       "      <td>9</td>\n",
       "      <td>1996</td>\n",
       "      <td>31.215027</td>\n",
       "      <td>22.743989</td>\n",
       "      <td>8.969863</td>\n",
       "      <td>8.941530</td>\n",
       "    </tr>\n",
       "    <tr>\n",
       "      <th>9</th>\n",
       "      <td>10</td>\n",
       "      <td>1997</td>\n",
       "      <td>31.162912</td>\n",
       "      <td>22.866849</td>\n",
       "      <td>8.686111</td>\n",
       "      <td>8.410685</td>\n",
       "    </tr>\n",
       "    <tr>\n",
       "      <th>10</th>\n",
       "      <td>11</td>\n",
       "      <td>1998</td>\n",
       "      <td>31.423626</td>\n",
       "      <td>23.183196</td>\n",
       "      <td>8.005747</td>\n",
       "      <td>10.540385</td>\n",
       "    </tr>\n",
       "    <tr>\n",
       "      <th>11</th>\n",
       "      <td>12</td>\n",
       "      <td>1999</td>\n",
       "      <td>31.352747</td>\n",
       "      <td>22.714795</td>\n",
       "      <td>7.565217</td>\n",
       "      <td>7.365479</td>\n",
       "    </tr>\n",
       "    <tr>\n",
       "      <th>12</th>\n",
       "      <td>13</td>\n",
       "      <td>2000</td>\n",
       "      <td>31.219231</td>\n",
       "      <td>22.481044</td>\n",
       "      <td>7.686813</td>\n",
       "      <td>9.184341</td>\n",
       "    </tr>\n",
       "    <tr>\n",
       "      <th>13</th>\n",
       "      <td>14</td>\n",
       "      <td>2001</td>\n",
       "      <td>31.416164</td>\n",
       "      <td>22.686301</td>\n",
       "      <td>8.090411</td>\n",
       "      <td>6.755068</td>\n",
       "    </tr>\n",
       "    <tr>\n",
       "      <th>14</th>\n",
       "      <td>15</td>\n",
       "      <td>2002</td>\n",
       "      <td>31.832333</td>\n",
       "      <td>22.994795</td>\n",
       "      <td>7.824658</td>\n",
       "      <td>8.008767</td>\n",
       "    </tr>\n",
       "    <tr>\n",
       "      <th>15</th>\n",
       "      <td>16</td>\n",
       "      <td>2003</td>\n",
       "      <td>31.915342</td>\n",
       "      <td>23.023562</td>\n",
       "      <td>7.517808</td>\n",
       "      <td>6.899178</td>\n",
       "    </tr>\n",
       "    <tr>\n",
       "      <th>16</th>\n",
       "      <td>17</td>\n",
       "      <td>2004</td>\n",
       "      <td>31.758197</td>\n",
       "      <td>22.821585</td>\n",
       "      <td>7.918033</td>\n",
       "      <td>8.405464</td>\n",
       "    </tr>\n",
       "    <tr>\n",
       "      <th>17</th>\n",
       "      <td>18</td>\n",
       "      <td>2005</td>\n",
       "      <td>31.619505</td>\n",
       "      <td>22.574176</td>\n",
       "      <td>7.964286</td>\n",
       "      <td>8.565934</td>\n",
       "    </tr>\n",
       "    <tr>\n",
       "      <th>18</th>\n",
       "      <td>19</td>\n",
       "      <td>2006</td>\n",
       "      <td>32.048358</td>\n",
       "      <td>22.769552</td>\n",
       "      <td>8.453731</td>\n",
       "      <td>9.872836</td>\n",
       "    </tr>\n",
       "    <tr>\n",
       "      <th>19</th>\n",
       "      <td>20</td>\n",
       "      <td>2007</td>\n",
       "      <td>31.818182</td>\n",
       "      <td>23.063912</td>\n",
       "      <td>7.382920</td>\n",
       "      <td>10.450413</td>\n",
       "    </tr>\n",
       "    <tr>\n",
       "      <th>20</th>\n",
       "      <td>21</td>\n",
       "      <td>2008</td>\n",
       "      <td>31.272840</td>\n",
       "      <td>22.729218</td>\n",
       "      <td>7.383333</td>\n",
       "      <td>7.567901</td>\n",
       "    </tr>\n",
       "    <tr>\n",
       "      <th>21</th>\n",
       "      <td>22</td>\n",
       "      <td>2009</td>\n",
       "      <td>32.063812</td>\n",
       "      <td>23.329006</td>\n",
       "      <td>6.656459</td>\n",
       "      <td>8.879834</td>\n",
       "    </tr>\n",
       "    <tr>\n",
       "      <th>22</th>\n",
       "      <td>23</td>\n",
       "      <td>2010</td>\n",
       "      <td>31.851791</td>\n",
       "      <td>23.345455</td>\n",
       "      <td>6.247934</td>\n",
       "      <td>10.814876</td>\n",
       "    </tr>\n",
       "    <tr>\n",
       "      <th>23</th>\n",
       "      <td>24</td>\n",
       "      <td>2011</td>\n",
       "      <td>32.033699</td>\n",
       "      <td>22.348219</td>\n",
       "      <td>6.879121</td>\n",
       "      <td>12.168493</td>\n",
       "    </tr>\n",
       "    <tr>\n",
       "      <th>24</th>\n",
       "      <td>25</td>\n",
       "      <td>2012</td>\n",
       "      <td>31.595580</td>\n",
       "      <td>20.802486</td>\n",
       "      <td>6.903315</td>\n",
       "      <td>9.403315</td>\n",
       "    </tr>\n",
       "    <tr>\n",
       "      <th>25</th>\n",
       "      <td>26</td>\n",
       "      <td>2013</td>\n",
       "      <td>31.688462</td>\n",
       "      <td>20.974725</td>\n",
       "      <td>6.950549</td>\n",
       "      <td>9.109890</td>\n",
       "    </tr>\n",
       "    <tr>\n",
       "      <th>26</th>\n",
       "      <td>27</td>\n",
       "      <td>2014</td>\n",
       "      <td>32.004683</td>\n",
       "      <td>22.368871</td>\n",
       "      <td>6.108844</td>\n",
       "      <td>7.167769</td>\n",
       "    </tr>\n",
       "    <tr>\n",
       "      <th>27</th>\n",
       "      <td>28</td>\n",
       "      <td>2015</td>\n",
       "      <td>32.481593</td>\n",
       "      <td>22.385165</td>\n",
       "      <td>7.289062</td>\n",
       "      <td>6.475275</td>\n",
       "    </tr>\n",
       "    <tr>\n",
       "      <th>28</th>\n",
       "      <td>29</td>\n",
       "      <td>2016</td>\n",
       "      <td>31.675748</td>\n",
       "      <td>22.412874</td>\n",
       "      <td>6.760479</td>\n",
       "      <td>12.395210</td>\n",
       "    </tr>\n",
       "    <tr>\n",
       "      <th>29</th>\n",
       "      <td>30</td>\n",
       "      <td>2017</td>\n",
       "      <td>32.460725</td>\n",
       "      <td>22.529003</td>\n",
       "      <td>6.496429</td>\n",
       "      <td>6.529909</td>\n",
       "    </tr>\n",
       "    <tr>\n",
       "      <th>30</th>\n",
       "      <td>31</td>\n",
       "      <td>2018</td>\n",
       "      <td>32.328571</td>\n",
       "      <td>22.768407</td>\n",
       "      <td>8.143460</td>\n",
       "      <td>8.702747</td>\n",
       "    </tr>\n",
       "  </tbody>\n",
       "</table>\n",
       "</div>"
      ],
      "text/plain": [
       "    Sr.No.  YEAR  MAXIMUM_TEMP  MINIMUM_TEMP  AVERAGE_WIND_SPEED  \\\n",
       "0        1  1988     31.159836     22.942896           10.129870   \n",
       "1        2  1989     31.175890     22.777534            9.846154   \n",
       "2        3  1990     30.940000     22.560714            9.541063   \n",
       "3        4  1991     31.120661     22.626099            9.181818   \n",
       "4        5  1992     31.167213     22.548907            9.437299   \n",
       "5        6  1993     31.145580     22.871823            9.555249   \n",
       "6        7  1994     30.950685     22.846027            9.332410   \n",
       "7        8  1995     31.208506     22.715385            8.329577   \n",
       "8        9  1996     31.215027     22.743989            8.969863   \n",
       "9       10  1997     31.162912     22.866849            8.686111   \n",
       "10      11  1998     31.423626     23.183196            8.005747   \n",
       "11      12  1999     31.352747     22.714795            7.565217   \n",
       "12      13  2000     31.219231     22.481044            7.686813   \n",
       "13      14  2001     31.416164     22.686301            8.090411   \n",
       "14      15  2002     31.832333     22.994795            7.824658   \n",
       "15      16  2003     31.915342     23.023562            7.517808   \n",
       "16      17  2004     31.758197     22.821585            7.918033   \n",
       "17      18  2005     31.619505     22.574176            7.964286   \n",
       "18      19  2006     32.048358     22.769552            8.453731   \n",
       "19      20  2007     31.818182     23.063912            7.382920   \n",
       "20      21  2008     31.272840     22.729218            7.383333   \n",
       "21      22  2009     32.063812     23.329006            6.656459   \n",
       "22      23  2010     31.851791     23.345455            6.247934   \n",
       "23      24  2011     32.033699     22.348219            6.879121   \n",
       "24      25  2012     31.595580     20.802486            6.903315   \n",
       "25      26  2013     31.688462     20.974725            6.950549   \n",
       "26      27  2014     32.004683     22.368871            6.108844   \n",
       "27      28  2015     32.481593     22.385165            7.289062   \n",
       "28      29  2016     31.675748     22.412874            6.760479   \n",
       "29      30  2017     32.460725     22.529003            6.496429   \n",
       "30      31  2018     32.328571     22.768407            8.143460   \n",
       "\n",
       "    PRECIPITATION  \n",
       "0        9.295628  \n",
       "1        9.695068  \n",
       "2        9.441644  \n",
       "3        8.157967  \n",
       "4        9.009290  \n",
       "5        9.823204  \n",
       "6        6.987945  \n",
       "7        8.209863  \n",
       "8        8.941530  \n",
       "9        8.410685  \n",
       "10      10.540385  \n",
       "11       7.365479  \n",
       "12       9.184341  \n",
       "13       6.755068  \n",
       "14       8.008767  \n",
       "15       6.899178  \n",
       "16       8.405464  \n",
       "17       8.565934  \n",
       "18       9.872836  \n",
       "19      10.450413  \n",
       "20       7.567901  \n",
       "21       8.879834  \n",
       "22      10.814876  \n",
       "23      12.168493  \n",
       "24       9.403315  \n",
       "25       9.109890  \n",
       "26       7.167769  \n",
       "27       6.475275  \n",
       "28      12.395210  \n",
       "29       6.529909  \n",
       "30       8.702747  "
      ]
     },
     "execution_count": 48,
     "metadata": {},
     "output_type": "execute_result"
    }
   ],
   "source": [
    "df = pd.read_csv('Ratnagiri..csv')\n",
    "df"
   ]
  },
  {
   "cell_type": "code",
   "execution_count": 78,
   "metadata": {},
   "outputs": [
    {
     "data": {
      "image/png": "[encoded data removed]",
      "text/plain": [
       "<Figure size 504x360 with 1 Axes>"
      ]
     },
     "metadata": {
      "needs_background": "light"
     },
     "output_type": "display_data"
    }
   ],
   "source": [
    "plt.figure(figsize=(7,5))\n",
    "plt.title('Ratnagiri District Average Climate data (1988 to 2018)')\n",
    "plt.xlabel(' [ Years ]')\n",
    "plt.ylabel('[ Temperature ]')\n",
    "plt.plot(df.YEAR,df.MAXIMUM_TEMP,label='maximum Temp',color='r')\n",
    "plt.plot(df.YEAR,df.MINIMUM_TEMP,label='minimum Temp',color='y')\n",
    "plt.legend(loc=5)\n",
    "plt.savefig('Ratnagiri District Average Climate data (1988 to 2018).pdf')"
   ]
  },
  {
   "cell_type": "code",
   "execution_count": 50,
   "metadata": {},
   "outputs": [
    {
     "data": {
      "text/plain": [
       "<matplotlib.legend.Legend at 0x1889e91a7c8>"
      ]
     },
     "execution_count": 50,
     "metadata": {},
     "output_type": "execute_result"
    },
    {
     "data": {
      "image/png": "[encoded data removed]",
      "text/plain": [
       "<Figure size 504x360 with 1 Axes>"
      ]
     },
     "metadata": {
      "needs_background": "light"
     },
     "output_type": "display_data"
    }
   ],
   "source": [
    "plt.figure(figsize=(7,5))\n",
    "plt.title('Ratnagiri District Average Wind Speed (1988 to 2018)')\n",
    "plt.xlabel('[ Years ]')\n",
    "plt.ylabel('[ velocity Meters per second (m/s) ]')\n",
    "plt.plot(df.YEAR,df.AVERAGE_WIND_SPEED,label='Wind speed',color='b')\n",
    "plt.legend(loc=1)"
   ]
  },
  {
   "cell_type": "code",
   "execution_count": 51,
   "metadata": {},
   "outputs": [
    {
     "data": {
      "text/plain": [
       "<matplotlib.legend.Legend at 0x1889e98e288>"
      ]
     },
     "execution_count": 51,
     "metadata": {},
     "output_type": "execute_result"
    },
    {
     "data": {
      "image/png": "[encoded data removed]",
      "text/plain": [
       "<Figure size 504x360 with 1 Axes>"
      ]
     },
     "metadata": {
      "needs_background": "light"
     },
     "output_type": "display_data"
    }
   ],
   "source": [
    "plt.figure(figsize=(7,5))\n",
    "plt.title('Ratnagiri District Average Precipitation (1988 to 2018)')\n",
    "plt.xlabel('[ Years ]')\n",
    "plt.ylabel('[ in millimetres (mm) ]')\n",
    "plt.plot(df.YEAR,df.PRECIPITATION,label='Rainfall',color='g')\n",
    "plt.legend(loc=2)"
   ]
  },
  {
   "cell_type": "markdown",
   "metadata": {},
   "source": [
    "# Model"
   ]
  },
  {
   "cell_type": "code",
   "execution_count": 52,
   "metadata": {},
   "outputs": [],
   "source": [
    "reg = linear_model.LinearRegression()"
   ]
  },
  {
   "cell_type": "markdown",
   "metadata": {},
   "source": [
    "# Equation for calculation of Climate Data"
   ]
  },
  {
   "cell_type": "markdown",
   "metadata": {},
   "source": [
    "# Max-Temp = M * Year + B"
   ]
  },
  {
   "cell_type": "markdown",
   "metadata": {},
   "source": [
    "M = reg.coef_\n",
    "\n",
    "Year = Year of Rainfall\n",
    "\n",
    "B = reg.intercept_"
   ]
  },
  {
   "cell_type": "code",
   "execution_count": 53,
   "metadata": {},
   "outputs": [
    {
     "data": {
      "text/html": [
       "<div>\n",
       "<style scoped>\n",
       "    .dataframe tbody tr th:only-of-type {\n",
       "        vertical-align: middle;\n",
       "    }\n",
       "\n",
       "    .dataframe tbody tr th {\n",
       "        vertical-align: top;\n",
       "    }\n",
       "\n",
       "    .dataframe thead th {\n",
       "        text-align: right;\n",
       "    }\n",
       "</style>\n",
       "<table border=\"1\" class=\"dataframe\">\n",
       "  <thead>\n",
       "    <tr style=\"text-align: right;\">\n",
       "      <th></th>\n",
       "      <th>YEAR</th>\n",
       "    </tr>\n",
       "  </thead>\n",
       "  <tbody>\n",
       "    <tr>\n",
       "      <th>0</th>\n",
       "      <td>2019</td>\n",
       "    </tr>\n",
       "    <tr>\n",
       "      <th>1</th>\n",
       "      <td>2020</td>\n",
       "    </tr>\n",
       "    <tr>\n",
       "      <th>2</th>\n",
       "      <td>2021</td>\n",
       "    </tr>\n",
       "    <tr>\n",
       "      <th>3</th>\n",
       "      <td>2022</td>\n",
       "    </tr>\n",
       "    <tr>\n",
       "      <th>4</th>\n",
       "      <td>2023</td>\n",
       "    </tr>\n",
       "  </tbody>\n",
       "</table>\n",
       "</div>"
      ],
      "text/plain": [
       "   YEAR\n",
       "0  2019\n",
       "1  2020\n",
       "2  2021\n",
       "3  2022\n",
       "4  2023"
      ]
     },
     "execution_count": 53,
     "metadata": {},
     "output_type": "execute_result"
    }
   ],
   "source": [
    "df1 = pd.read_csv('Year_to_predicted_rainfall.csv')\n",
    "df1.head()"
   ]
  },
  {
   "cell_type": "code",
   "execution_count": 54,
   "metadata": {},
   "outputs": [],
   "source": [
    "MAXIMUM_TEMP = reg.fit(df[['YEAR']],df.MAXIMUM_TEMP)\n",
    "Max_Temp = MAXIMUM_TEMP.predict(df1)"
   ]
  },
  {
   "cell_type": "code",
   "execution_count": 55,
   "metadata": {},
   "outputs": [
    {
     "data": {
      "text/plain": [
       "array([0.04123052])"
      ]
     },
     "execution_count": 55,
     "metadata": {},
     "output_type": "execute_result"
    }
   ],
   "source": [
    "MAXIMUM_TEMP.coef_       #Coefficient of ---- M value   "
   ]
  },
  {
   "cell_type": "code",
   "execution_count": 56,
   "metadata": {},
   "outputs": [
    {
     "data": {
      "text/plain": [
       "-51.000618362887025"
      ]
     },
     "execution_count": 56,
     "metadata": {},
     "output_type": "execute_result"
    }
   ],
   "source": [
    "MAXIMUM_TEMP.intercept_  #  intercept value ---- B value"
   ]
  },
  {
   "cell_type": "markdown",
   "metadata": {},
   "source": [
    "# Mini-Temp= M * Year + B"
   ]
  },
  {
   "cell_type": "markdown",
   "metadata": {},
   "source": [
    "M = reg.coef_\n",
    "\n",
    "#Year = Year of Rainfall\n",
    "\n",
    "#B = reg.intercept_"
   ]
  },
  {
   "cell_type": "code",
   "execution_count": 57,
   "metadata": {},
   "outputs": [],
   "source": [
    "MINIMUM_TEMP = reg.fit(df[['YEAR']],df.MINIMUM_TEMP)\n",
    "Min_Temp = MINIMUM_TEMP.predict(df1)"
   ]
  },
  {
   "cell_type": "code",
   "execution_count": 58,
   "metadata": {},
   "outputs": [
    {
     "data": {
      "text/plain": [
       "array([-0.01879542])"
      ]
     },
     "execution_count": 58,
     "metadata": {},
     "output_type": "execute_result"
    }
   ],
   "source": [
    "MINIMUM_TEMP.coef_  "
   ]
  },
  {
   "cell_type": "code",
   "execution_count": 59,
   "metadata": {},
   "outputs": [
    {
     "data": {
      "text/plain": [
       "60.28615045167326"
      ]
     },
     "execution_count": 59,
     "metadata": {},
     "output_type": "execute_result"
    }
   ],
   "source": [
    "MINIMUM_TEMP.intercept_"
   ]
  },
  {
   "cell_type": "markdown",
   "metadata": {},
   "source": [
    "# Wind-Speed = M * Year + B"
   ]
  },
  {
   "cell_type": "code",
   "execution_count": 60,
   "metadata": {},
   "outputs": [],
   "source": [
    "AVERAGE_WIND_SPEED = reg.fit(df[['YEAR']],df.AVERAGE_WIND_SPEED)\n",
    "Avg_Wind_Speed = AVERAGE_WIND_SPEED.predict(df1)"
   ]
  },
  {
   "cell_type": "code",
   "execution_count": 61,
   "metadata": {},
   "outputs": [],
   "source": [
    "#M = reg.coef_\n",
    "\n",
    "#Year = Year of Rainfall\n",
    "\n",
    "#B = reg.intercept_"
   ]
  },
  {
   "cell_type": "code",
   "execution_count": 62,
   "metadata": {},
   "outputs": [
    {
     "data": {
      "text/plain": [
       "array([-0.10669729])"
      ]
     },
     "execution_count": 62,
     "metadata": {},
     "output_type": "execute_result"
    }
   ],
   "source": [
    "AVERAGE_WIND_SPEED.coef_"
   ]
  },
  {
   "cell_type": "code",
   "execution_count": 63,
   "metadata": {},
   "outputs": [
    {
     "data": {
      "text/plain": [
       "array([-0.10669729])"
      ]
     },
     "execution_count": 63,
     "metadata": {},
     "output_type": "execute_result"
    }
   ],
   "source": [
    "AVERAGE_WIND_SPEED.coef_"
   ]
  },
  {
   "cell_type": "code",
   "execution_count": 64,
   "metadata": {},
   "outputs": [
    {
     "data": {
      "text/plain": [
       "221.69008657207465"
      ]
     },
     "execution_count": 64,
     "metadata": {},
     "output_type": "execute_result"
    }
   ],
   "source": [
    "AVERAGE_WIND_SPEED.intercept_"
   ]
  },
  {
   "cell_type": "markdown",
   "metadata": {},
   "source": [
    "# Precipitation = M * Year + B"
   ]
  },
  {
   "cell_type": "code",
   "execution_count": 65,
   "metadata": {},
   "outputs": [],
   "source": [
    "Pre_PRECIPITATION = reg.fit(df[['YEAR']],df.PRECIPITATION)\n",
    "Precipitation = Pre_PRECIPITATION.predict(df1)"
   ]
  },
  {
   "cell_type": "code",
   "execution_count": 66,
   "metadata": {},
   "outputs": [],
   "source": [
    "#M = reg.coef_\n",
    "\n",
    "#Year = Year of Rainfall\n",
    "\n",
    "#B = reg.intercept_"
   ]
  },
  {
   "cell_type": "code",
   "execution_count": 67,
   "metadata": {},
   "outputs": [
    {
     "data": {
      "text/plain": [
       "array([0.00423615])"
      ]
     },
     "execution_count": 67,
     "metadata": {},
     "output_type": "execute_result"
    }
   ],
   "source": [
    "Pre_PRECIPITATION.coef_"
   ]
  },
  {
   "cell_type": "code",
   "execution_count": 68,
   "metadata": {},
   "outputs": [
    {
     "data": {
      "text/plain": [
       "0.3290581656096627"
      ]
     },
     "execution_count": 68,
     "metadata": {},
     "output_type": "execute_result"
    }
   ],
   "source": [
    "Pre_PRECIPITATION.intercept_"
   ]
  },
  {
   "cell_type": "code",
   "execution_count": 69,
   "metadata": {},
   "outputs": [],
   "source": [
    "df1['Pre_MAXIMUM_TEMP'] = Max_Temp"
   ]
  },
  {
   "cell_type": "code",
   "execution_count": 70,
   "metadata": {},
   "outputs": [],
   "source": [
    "df1['Pre_MINIMUM_TEMP'] = Min_Temp"
   ]
  },
  {
   "cell_type": "code",
   "execution_count": 71,
   "metadata": {},
   "outputs": [],
   "source": [
    "df1['Pre_Avg_Wind_Speed'] = Avg_Wind_Speed"
   ]
  },
  {
   "cell_type": "code",
   "execution_count": 72,
   "metadata": {},
   "outputs": [],
   "source": [
    "df1['Pre_Precipitation'] = Precipitation"
   ]
  },
  {
   "cell_type": "code",
   "execution_count": 73,
   "metadata": {},
   "outputs": [
    {
     "data": {
      "text/html": [
       "<div>\n",
       "<style scoped>\n",
       "    .dataframe tbody tr th:only-of-type {\n",
       "        vertical-align: middle;\n",
       "    }\n",
       "\n",
       "    .dataframe tbody tr th {\n",
       "        vertical-align: top;\n",
       "    }\n",
       "\n",
       "    .dataframe thead th {\n",
       "        text-align: right;\n",
       "    }\n",
       "</style>\n",
       "<table border=\"1\" class=\"dataframe\">\n",
       "  <thead>\n",
       "    <tr style=\"text-align: right;\">\n",
       "      <th></th>\n",
       "      <th>YEAR</th>\n",
       "      <th>Pre_MAXIMUM_TEMP</th>\n",
       "      <th>Pre_MINIMUM_TEMP</th>\n",
       "      <th>Pre_Avg_Wind_Speed</th>\n",
       "      <th>Pre_Precipitation</th>\n",
       "    </tr>\n",
       "  </thead>\n",
       "  <tbody>\n",
       "    <tr>\n",
       "      <th>0</th>\n",
       "      <td>2019</td>\n",
       "      <td>32.243801</td>\n",
       "      <td>22.338195</td>\n",
       "      <td>6.268264</td>\n",
       "      <td>8.881840</td>\n",
       "    </tr>\n",
       "    <tr>\n",
       "      <th>1</th>\n",
       "      <td>2020</td>\n",
       "      <td>32.285032</td>\n",
       "      <td>22.319399</td>\n",
       "      <td>6.161566</td>\n",
       "      <td>8.886076</td>\n",
       "    </tr>\n",
       "    <tr>\n",
       "      <th>2</th>\n",
       "      <td>2021</td>\n",
       "      <td>32.326262</td>\n",
       "      <td>22.300604</td>\n",
       "      <td>6.054869</td>\n",
       "      <td>8.890312</td>\n",
       "    </tr>\n",
       "    <tr>\n",
       "      <th>3</th>\n",
       "      <td>2022</td>\n",
       "      <td>32.367493</td>\n",
       "      <td>22.281809</td>\n",
       "      <td>5.948172</td>\n",
       "      <td>8.894548</td>\n",
       "    </tr>\n",
       "    <tr>\n",
       "      <th>4</th>\n",
       "      <td>2023</td>\n",
       "      <td>32.408723</td>\n",
       "      <td>22.263013</td>\n",
       "      <td>5.841474</td>\n",
       "      <td>8.898785</td>\n",
       "    </tr>\n",
       "    <tr>\n",
       "      <th>5</th>\n",
       "      <td>2024</td>\n",
       "      <td>32.449954</td>\n",
       "      <td>22.244218</td>\n",
       "      <td>5.734777</td>\n",
       "      <td>8.903021</td>\n",
       "    </tr>\n",
       "    <tr>\n",
       "      <th>6</th>\n",
       "      <td>2025</td>\n",
       "      <td>32.491184</td>\n",
       "      <td>22.225422</td>\n",
       "      <td>5.628080</td>\n",
       "      <td>8.907257</td>\n",
       "    </tr>\n",
       "    <tr>\n",
       "      <th>7</th>\n",
       "      <td>2026</td>\n",
       "      <td>32.532415</td>\n",
       "      <td>22.206627</td>\n",
       "      <td>5.521382</td>\n",
       "      <td>8.911493</td>\n",
       "    </tr>\n",
       "    <tr>\n",
       "      <th>8</th>\n",
       "      <td>2027</td>\n",
       "      <td>32.573645</td>\n",
       "      <td>22.187831</td>\n",
       "      <td>5.414685</td>\n",
       "      <td>8.915729</td>\n",
       "    </tr>\n",
       "    <tr>\n",
       "      <th>9</th>\n",
       "      <td>2028</td>\n",
       "      <td>32.614876</td>\n",
       "      <td>22.169036</td>\n",
       "      <td>5.307988</td>\n",
       "      <td>8.919965</td>\n",
       "    </tr>\n",
       "    <tr>\n",
       "      <th>10</th>\n",
       "      <td>2030</td>\n",
       "      <td>32.697337</td>\n",
       "      <td>22.131445</td>\n",
       "      <td>5.094593</td>\n",
       "      <td>8.928438</td>\n",
       "    </tr>\n",
       "    <tr>\n",
       "      <th>11</th>\n",
       "      <td>2031</td>\n",
       "      <td>32.738568</td>\n",
       "      <td>22.112650</td>\n",
       "      <td>4.987896</td>\n",
       "      <td>8.932674</td>\n",
       "    </tr>\n",
       "    <tr>\n",
       "      <th>12</th>\n",
       "      <td>2032</td>\n",
       "      <td>32.779798</td>\n",
       "      <td>22.093854</td>\n",
       "      <td>4.881199</td>\n",
       "      <td>8.936910</td>\n",
       "    </tr>\n",
       "    <tr>\n",
       "      <th>13</th>\n",
       "      <td>2033</td>\n",
       "      <td>32.821029</td>\n",
       "      <td>22.075059</td>\n",
       "      <td>4.774501</td>\n",
       "      <td>8.941146</td>\n",
       "    </tr>\n",
       "    <tr>\n",
       "      <th>14</th>\n",
       "      <td>2034</td>\n",
       "      <td>32.862259</td>\n",
       "      <td>22.056264</td>\n",
       "      <td>4.667804</td>\n",
       "      <td>8.945382</td>\n",
       "    </tr>\n",
       "    <tr>\n",
       "      <th>15</th>\n",
       "      <td>2035</td>\n",
       "      <td>32.903490</td>\n",
       "      <td>22.037468</td>\n",
       "      <td>4.561107</td>\n",
       "      <td>8.949618</td>\n",
       "    </tr>\n",
       "    <tr>\n",
       "      <th>16</th>\n",
       "      <td>2036</td>\n",
       "      <td>32.944720</td>\n",
       "      <td>22.018673</td>\n",
       "      <td>4.454410</td>\n",
       "      <td>8.953854</td>\n",
       "    </tr>\n",
       "    <tr>\n",
       "      <th>17</th>\n",
       "      <td>2037</td>\n",
       "      <td>32.985951</td>\n",
       "      <td>21.999877</td>\n",
       "      <td>4.347712</td>\n",
       "      <td>8.958091</td>\n",
       "    </tr>\n",
       "    <tr>\n",
       "      <th>18</th>\n",
       "      <td>2038</td>\n",
       "      <td>33.027181</td>\n",
       "      <td>21.981082</td>\n",
       "      <td>4.241015</td>\n",
       "      <td>8.962327</td>\n",
       "    </tr>\n",
       "    <tr>\n",
       "      <th>19</th>\n",
       "      <td>2039</td>\n",
       "      <td>33.068412</td>\n",
       "      <td>21.962286</td>\n",
       "      <td>4.134318</td>\n",
       "      <td>8.966563</td>\n",
       "    </tr>\n",
       "    <tr>\n",
       "      <th>20</th>\n",
       "      <td>2040</td>\n",
       "      <td>33.109642</td>\n",
       "      <td>21.943491</td>\n",
       "      <td>4.027620</td>\n",
       "      <td>8.970799</td>\n",
       "    </tr>\n",
       "    <tr>\n",
       "      <th>21</th>\n",
       "      <td>2041</td>\n",
       "      <td>33.150873</td>\n",
       "      <td>21.924696</td>\n",
       "      <td>3.920923</td>\n",
       "      <td>8.975035</td>\n",
       "    </tr>\n",
       "    <tr>\n",
       "      <th>22</th>\n",
       "      <td>2042</td>\n",
       "      <td>33.192103</td>\n",
       "      <td>21.905900</td>\n",
       "      <td>3.814226</td>\n",
       "      <td>8.979271</td>\n",
       "    </tr>\n",
       "    <tr>\n",
       "      <th>23</th>\n",
       "      <td>2043</td>\n",
       "      <td>33.233334</td>\n",
       "      <td>21.887105</td>\n",
       "      <td>3.707529</td>\n",
       "      <td>8.983508</td>\n",
       "    </tr>\n",
       "    <tr>\n",
       "      <th>24</th>\n",
       "      <td>2044</td>\n",
       "      <td>33.274564</td>\n",
       "      <td>21.868309</td>\n",
       "      <td>3.600831</td>\n",
       "      <td>8.987744</td>\n",
       "    </tr>\n",
       "    <tr>\n",
       "      <th>25</th>\n",
       "      <td>2046</td>\n",
       "      <td>33.357025</td>\n",
       "      <td>21.830718</td>\n",
       "      <td>3.387437</td>\n",
       "      <td>8.996216</td>\n",
       "    </tr>\n",
       "    <tr>\n",
       "      <th>26</th>\n",
       "      <td>2047</td>\n",
       "      <td>33.398256</td>\n",
       "      <td>21.811923</td>\n",
       "      <td>3.280739</td>\n",
       "      <td>9.000452</td>\n",
       "    </tr>\n",
       "    <tr>\n",
       "      <th>27</th>\n",
       "      <td>2048</td>\n",
       "      <td>33.439486</td>\n",
       "      <td>21.793128</td>\n",
       "      <td>3.174042</td>\n",
       "      <td>9.004688</td>\n",
       "    </tr>\n",
       "    <tr>\n",
       "      <th>28</th>\n",
       "      <td>2049</td>\n",
       "      <td>33.480717</td>\n",
       "      <td>21.774332</td>\n",
       "      <td>3.067345</td>\n",
       "      <td>9.008924</td>\n",
       "    </tr>\n",
       "    <tr>\n",
       "      <th>29</th>\n",
       "      <td>2050</td>\n",
       "      <td>33.521947</td>\n",
       "      <td>21.755537</td>\n",
       "      <td>2.960648</td>\n",
       "      <td>9.013161</td>\n",
       "    </tr>\n",
       "  </tbody>\n",
       "</table>\n",
       "</div>"
      ],
      "text/plain": [
       "    YEAR  Pre_MAXIMUM_TEMP  Pre_MINIMUM_TEMP  Pre_Avg_Wind_Speed  \\\n",
       "0   2019         32.243801         22.338195            6.268264   \n",
       "1   2020         32.285032         22.319399            6.161566   \n",
       "2   2021         32.326262         22.300604            6.054869   \n",
       "3   2022         32.367493         22.281809            5.948172   \n",
       "4   2023         32.408723         22.263013            5.841474   \n",
       "5   2024         32.449954         22.244218            5.734777   \n",
       "6   2025         32.491184         22.225422            5.628080   \n",
       "7   2026         32.532415         22.206627            5.521382   \n",
       "8   2027         32.573645         22.187831            5.414685   \n",
       "9   2028         32.614876         22.169036            5.307988   \n",
       "10  2030         32.697337         22.131445            5.094593   \n",
       "11  2031         32.738568         22.112650            4.987896   \n",
       "12  2032         32.779798         22.093854            4.881199   \n",
       "13  2033         32.821029         22.075059            4.774501   \n",
       "14  2034         32.862259         22.056264            4.667804   \n",
       "15  2035         32.903490         22.037468            4.561107   \n",
       "16  2036         32.944720         22.018673            4.454410   \n",
       "17  2037         32.985951         21.999877            4.347712   \n",
       "18  2038         33.027181         21.981082            4.241015   \n",
       "19  2039         33.068412         21.962286            4.134318   \n",
       "20  2040         33.109642         21.943491            4.027620   \n",
       "21  2041         33.150873         21.924696            3.920923   \n",
       "22  2042         33.192103         21.905900            3.814226   \n",
       "23  2043         33.233334         21.887105            3.707529   \n",
       "24  2044         33.274564         21.868309            3.600831   \n",
       "25  2046         33.357025         21.830718            3.387437   \n",
       "26  2047         33.398256         21.811923            3.280739   \n",
       "27  2048         33.439486         21.793128            3.174042   \n",
       "28  2049         33.480717         21.774332            3.067345   \n",
       "29  2050         33.521947         21.755537            2.960648   \n",
       "\n",
       "    Pre_Precipitation  \n",
       "0            8.881840  \n",
       "1            8.886076  \n",
       "2            8.890312  \n",
       "3            8.894548  \n",
       "4            8.898785  \n",
       "5            8.903021  \n",
       "6            8.907257  \n",
       "7            8.911493  \n",
       "8            8.915729  \n",
       "9            8.919965  \n",
       "10           8.928438  \n",
       "11           8.932674  \n",
       "12           8.936910  \n",
       "13           8.941146  \n",
       "14           8.945382  \n",
       "15           8.949618  \n",
       "16           8.953854  \n",
       "17           8.958091  \n",
       "18           8.962327  \n",
       "19           8.966563  \n",
       "20           8.970799  \n",
       "21           8.975035  \n",
       "22           8.979271  \n",
       "23           8.983508  \n",
       "24           8.987744  \n",
       "25           8.996216  \n",
       "26           9.000452  \n",
       "27           9.004688  \n",
       "28           9.008924  \n",
       "29           9.013161  "
      ]
     },
     "execution_count": 73,
     "metadata": {},
     "output_type": "execute_result"
    }
   ],
   "source": [
    "df1   #Predicted Rainfall Using Single Variable linear Regression"
   ]
  },
  {
   "cell_type": "code",
   "execution_count": 74,
   "metadata": {},
   "outputs": [
    {
     "data": {
      "text/plain": [
       "<matplotlib.legend.Legend at 0x1889ea1fc08>"
      ]
     },
     "execution_count": 74,
     "metadata": {},
     "output_type": "execute_result"
    },
    {
     "data": {
      "image/png": "[encoded data removed]",
      "text/plain": [
       "<Figure size 648x360 with 1 Axes>"
      ]
     },
     "metadata": {
      "needs_background": "light"
     },
     "output_type": "display_data"
    }
   ],
   "source": [
    "plt.figure(figsize=(9,5))\n",
    "plt.title('Next 30 year Prediction of Max & Min Temperature')\n",
    "plt.xlabel('Years')\n",
    "plt.ylabel('Temperature')\n",
    "plt.plot(df.YEAR,df.MAXIMUM_TEMP,label='maximum Temp',color='r')\n",
    "plt.plot(df.YEAR,df.MINIMUM_TEMP,label='minimum Temp',color='y') \n",
    "plt.plot(df1.YEAR,df1.Pre_MAXIMUM_TEMP,'--',label='predicted maximum Temp',color='r')\n",
    "plt.plot(df1.YEAR,df1.Pre_MINIMUM_TEMP,'--', label='predicted minimum Temp',color='y')\n",
    "plt.legend()"
   ]
  },
  {
   "cell_type": "code",
   "execution_count": 75,
   "metadata": {},
   "outputs": [
    {
     "data": {
      "text/plain": [
       "<matplotlib.legend.Legend at 0x1889ea67e88>"
      ]
     },
     "execution_count": 75,
     "metadata": {},
     "output_type": "execute_result"
    },
    {
     "data": {
      "image/png": "[encoded data removed]",
      "text/plain": [
       "<Figure size 648x360 with 1 Axes>"
      ]
     },
     "metadata": {
      "needs_background": "light"
     },
     "output_type": "display_data"
    }
   ],
   "source": [
    "plt.figure(figsize=(9,5))\n",
    "plt.title('Prediction of Wind Speed of Ratnagiri District (Next 30 year) ')\n",
    "plt.xlabel('[ Years ]')\n",
    "plt.ylabel(' [ velocity Meters per second (m/s)  ]')\n",
    "plt.plot(df.YEAR,df.AVERAGE_WIND_SPEED,label='Wind speed',color='b')\n",
    "plt.plot(df1.YEAR,df1.Pre_Avg_Wind_Speed,'--g',label='predicted Wind speed',color='b')\n",
    "plt.legend(loc=1)"
   ]
  },
  {
   "cell_type": "code",
   "execution_count": 76,
   "metadata": {},
   "outputs": [
    {
     "data": {
      "text/plain": [
       "<matplotlib.legend.Legend at 0x1889eae8f88>"
      ]
     },
     "execution_count": 76,
     "metadata": {},
     "output_type": "execute_result"
    },
    {
     "data": {
      "image/png": "[encoded data removed]",
      "text/plain": [
       "<Figure size 648x360 with 1 Axes>"
      ]
     },
     "metadata": {
      "needs_background": "light"
     },
     "output_type": "display_data"
    }
   ],
   "source": [
    "plt.figure(figsize=(9,5))\n",
    "plt.title('Prediction of Precipitation of Ratnagiri District (Next 30 year) ')\n",
    "plt.xlabel('Years')\n",
    "plt.ylabel('[ in millimetres (mm) ]')\n",
    "plt.plot(df.YEAR,df.PRECIPITATION,label='Precipitation',color='g')\n",
    "plt.plot(df1.YEAR,df1.Pre_Precipitation,'--r',label='predicted Precipitation',color='g')\n",
    "plt.legend(loc=1)"
   ]
  },
  {
   "cell_type": "code",
   "execution_count": 77,
   "metadata": {},
   "outputs": [
    {
     "data": {
      "text/plain": [
       "<matplotlib.legend.Legend at 0x1889eba8e88>"
      ]
     },
     "execution_count": 77,
     "metadata": {},
     "output_type": "execute_result"
    },
    {
     "data": {
      "image/png": "[encoded data removed]",
      "text/plain": [
       "<Figure size 648x360 with 1 Axes>"
      ]
     },
     "metadata": {
      "needs_background": "light"
     },
     "output_type": "display_data"
    }
   ],
   "source": [
    "plt.figure(figsize=(9,5))\n",
    "plt.title('Prediction of Climate of Ratnagiri District (Next 30 year) ')\n",
    "plt.xlabel('[ Years ]')\n",
    "plt.ylabel('')\n",
    "plt.plot(df1.YEAR,df1.Pre_Precipitation,'--',label='',color='g')\n",
    "plt.plot(df1.YEAR,df1.Pre_Avg_Wind_Speed,'--',label='',color='b')\n",
    "plt.plot(df1.YEAR,df1.Pre_MAXIMUM_TEMP,'--',label='',color='r')\n",
    "plt.plot(df1.YEAR,df1.Pre_MINIMUM_TEMP,'--', label='',color='y')\n",
    "plt.plot(df.YEAR,df.PRECIPITATION,label='Precipitation',color='g')\n",
    "plt.plot(df.YEAR,df.MAXIMUM_TEMP,label='maximum Temp',color='r')\n",
    "plt.plot(df.YEAR,df.MINIMUM_TEMP,label='minimum Temp',color='y') \n",
    "plt.plot(df.YEAR,df.AVERAGE_WIND_SPEED,label='Wind speed',color='b')\n",
    "plt.legend(loc=6)"
   ]
  },
  {
   "cell_type": "code",
   "execution_count": null,
   "metadata": {},
   "outputs": [],
   "source": []
  }
 ],
 "metadata": {
  "kernelspec": {
   "display_name": "Python 3",
   "language": "python",
   "name": "python3"
  },
  "language_info": {
   "codemirror_mode": {
    "name": "ipython",
    "version": 3
   },
   "file_extension": ".py",
   "mimetype": "text/x-python",
   "name": "python",
   "nbconvert_exporter": "python",
   "pygments_lexer": "ipython3",
   "version": "3.7.6"
  }
 },
 "nbformat": 4,
 "nbformat_minor": 4
}
